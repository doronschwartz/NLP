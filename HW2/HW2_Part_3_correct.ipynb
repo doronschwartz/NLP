{
  "nbformat": 4,
  "nbformat_minor": 0,
  "metadata": {
    "colab": {
      "provenance": [],
      "include_colab_link": true
    },
    "kernelspec": {
      "name": "python3",
      "display_name": "Python 3"
    },
    "language_info": {
      "name": "python"
    }
  },
  "cells": [
    {
      "cell_type": "markdown",
      "metadata": {
        "id": "view-in-github",
        "colab_type": "text"
      },
      "source": [
        "<a href=\"https://colab.research.google.com/github/doronschwartz/NLP/blob/main/HW2/HW2_Part_3_correct.ipynb\" target=\"_parent\"><img src=\"https://colab.research.google.com/assets/colab-badge.svg\" alt=\"Open In Colab\"/></a>"
      ]
    },
    {
      "cell_type": "code",
      "source": [
        "import numpy as np\n",
        "import pandas as pd\n",
        "from sklearn.feature_selection import SelectKBest, chi2\n",
        "from sklearn.pipeline import Pipeline\n",
        "from sklearn.preprocessing import FunctionTransformer\n",
        "from tensorflow.keras.layers import Embedding, Conv1D, MaxPooling1D, GlobalMaxPooling1D, Dense, Dropout\n",
        "from tensorflow.keras.models import Model\n",
        "import tensorflow as tf\n",
        "from tensorflow import keras\n"
      ],
      "metadata": {
        "id": "Oj6eNjF1Qr_m"
      },
      "execution_count": null,
      "outputs": []
    },
    {
      "cell_type": "code",
      "source": [
        "import pandas as pd\n",
        "from sklearn.feature_extraction.text import CountVectorizer\n",
        "from sklearn.feature_selection import mutual_info_classif\n",
        "from nltk.tokenize import word_tokenize\n",
        "import nltk\n",
        "\n",
        "# Download NLTK resources\n",
        "nltk.download('punkt')\n",
        "\n",
        "# Load the first Excel file (news-pal.xlsx)\n",
        "url_pal = \"https://github.com/rosenfa/ai/blob/master/news-pal.xlsx?raw=true\"\n",
        "df_pal = pd.read_excel(url_pal)\n",
        "\n",
        "# Load the second Excel file (news-israel.xlsx)\n",
        "url_israel = \"https://github.com/rosenfa/ai/blob/master/news-israel.xlsx?raw=true\"\n",
        "df_israel = pd.read_excel(url_israel)\n",
        "\n",
        "df_israel.dropna(inplace=True)\n",
        "df_pal.dropna(inplace=True)\n",
        "\n",
        "\n",
        "# Add a 'target' column to both dataframes\n",
        "df_pal['target'] = False  # Assuming 'false' for news-pal.xlsx\n",
        "df_israel['target'] = True   # Assuming 'true' for news-israel.xlsx\n",
        "\n",
        "\n",
        "# Concatenate the two dataframes\n",
        "df_combined = pd.concat([df_pal, df_israel], ignore_index=True)\n",
        "df_combined.dropna(inplace=True)\n",
        "\n",
        "# Tokenize the documents\n",
        "#tokenized_documents = [word_tokenize(doc) for doc in df_combined['Content'].dropna()]"
      ],
      "metadata": {
        "colab": {
          "base_uri": "https://localhost:8080/"
        },
        "id": "eqr9rqSDGv0e",
        "outputId": "bc2ddfcb-104f-4b62-c087-95e7b056c746"
      },
      "execution_count": null,
      "outputs": [
        {
          "output_type": "stream",
          "name": "stderr",
          "text": [
            "[nltk_data] Downloading package punkt to /root/nltk_data...\n",
            "[nltk_data]   Package punkt is already up-to-date!\n"
          ]
        }
      ]
    },
    {
      "cell_type": "code",
      "source": [
        "print(df_pal.size)\n",
        "print(df_israel.size)\n",
        "print(df_combined.size)"
      ],
      "metadata": {
        "colab": {
          "base_uri": "https://localhost:8080/"
        },
        "id": "d4QOHMPDcY5f",
        "outputId": "de4a7039-1990-4fc7-a28a-52f8c15a4912"
      },
      "execution_count": null,
      "outputs": [
        {
          "output_type": "stream",
          "name": "stdout",
          "text": [
            "950\n",
            "950\n",
            "1900\n"
          ]
        }
      ]
    },
    {
      "cell_type": "code",
      "source": [
        "df_combined"
      ],
      "metadata": {
        "colab": {
          "base_uri": "https://localhost:8080/",
          "height": 424
        },
        "id": "u0aiNSxleTau",
        "outputId": "e0b2eedc-af4b-4da8-cbf8-4ed6c1338c17"
      },
      "execution_count": null,
      "outputs": [
        {
          "output_type": "execute_result",
          "data": {
            "text/plain": [
              "                                               Content  target\n",
              "0    : Qatar, the mediator in the Gaza truce talks,...   False\n",
              "1    Hamas says it holds US President Joe Biden and...   False\n",
              "2    Israeli attacks in the besieged Gaza Strip amo...   False\n",
              "3    Israeli warplanes and artillery bomb several a...   False\n",
              "4    \"Israel respects no international laws or conv...   False\n",
              "..                                                 ...     ...\n",
              "945  White nationalists, usually anti-Muslim bigots...    True\n",
              "946  Why Israel agreed to the hostage deal, and how...    True\n",
              "947  With the rise of campus antisemitism around th...    True\n",
              "948  WZO offers mobile showers for IDF soldiers in ...    True\n",
              "949  Yemen’s Houthis claim to hijack Israeli ship i...    True\n",
              "\n",
              "[950 rows x 2 columns]"
            ],
            "text/html": [
              "\n",
              "  <div id=\"df-2e243180-21fa-428b-a87f-d7e9d6ed8385\" class=\"colab-df-container\">\n",
              "    <div>\n",
              "<style scoped>\n",
              "    .dataframe tbody tr th:only-of-type {\n",
              "        vertical-align: middle;\n",
              "    }\n",
              "\n",
              "    .dataframe tbody tr th {\n",
              "        vertical-align: top;\n",
              "    }\n",
              "\n",
              "    .dataframe thead th {\n",
              "        text-align: right;\n",
              "    }\n",
              "</style>\n",
              "<table border=\"1\" class=\"dataframe\">\n",
              "  <thead>\n",
              "    <tr style=\"text-align: right;\">\n",
              "      <th></th>\n",
              "      <th>Content</th>\n",
              "      <th>target</th>\n",
              "    </tr>\n",
              "  </thead>\n",
              "  <tbody>\n",
              "    <tr>\n",
              "      <th>0</th>\n",
              "      <td>: Qatar, the mediator in the Gaza truce talks,...</td>\n",
              "      <td>False</td>\n",
              "    </tr>\n",
              "    <tr>\n",
              "      <th>1</th>\n",
              "      <td>Hamas says it holds US President Joe Biden and...</td>\n",
              "      <td>False</td>\n",
              "    </tr>\n",
              "    <tr>\n",
              "      <th>2</th>\n",
              "      <td>Israeli attacks in the besieged Gaza Strip amo...</td>\n",
              "      <td>False</td>\n",
              "    </tr>\n",
              "    <tr>\n",
              "      <th>3</th>\n",
              "      <td>Israeli warplanes and artillery bomb several a...</td>\n",
              "      <td>False</td>\n",
              "    </tr>\n",
              "    <tr>\n",
              "      <th>4</th>\n",
              "      <td>\"Israel respects no international laws or conv...</td>\n",
              "      <td>False</td>\n",
              "    </tr>\n",
              "    <tr>\n",
              "      <th>...</th>\n",
              "      <td>...</td>\n",
              "      <td>...</td>\n",
              "    </tr>\n",
              "    <tr>\n",
              "      <th>945</th>\n",
              "      <td>White nationalists, usually anti-Muslim bigots...</td>\n",
              "      <td>True</td>\n",
              "    </tr>\n",
              "    <tr>\n",
              "      <th>946</th>\n",
              "      <td>Why Israel agreed to the hostage deal, and how...</td>\n",
              "      <td>True</td>\n",
              "    </tr>\n",
              "    <tr>\n",
              "      <th>947</th>\n",
              "      <td>With the rise of campus antisemitism around th...</td>\n",
              "      <td>True</td>\n",
              "    </tr>\n",
              "    <tr>\n",
              "      <th>948</th>\n",
              "      <td>WZO offers mobile showers for IDF soldiers in ...</td>\n",
              "      <td>True</td>\n",
              "    </tr>\n",
              "    <tr>\n",
              "      <th>949</th>\n",
              "      <td>Yemen’s Houthis claim to hijack Israeli ship i...</td>\n",
              "      <td>True</td>\n",
              "    </tr>\n",
              "  </tbody>\n",
              "</table>\n",
              "<p>950 rows × 2 columns</p>\n",
              "</div>\n",
              "    <div class=\"colab-df-buttons\">\n",
              "\n",
              "  <div class=\"colab-df-container\">\n",
              "    <button class=\"colab-df-convert\" onclick=\"convertToInteractive('df-2e243180-21fa-428b-a87f-d7e9d6ed8385')\"\n",
              "            title=\"Convert this dataframe to an interactive table.\"\n",
              "            style=\"display:none;\">\n",
              "\n",
              "  <svg xmlns=\"http://www.w3.org/2000/svg\" height=\"24px\" viewBox=\"0 -960 960 960\">\n",
              "    <path d=\"M120-120v-720h720v720H120Zm60-500h600v-160H180v160Zm220 220h160v-160H400v160Zm0 220h160v-160H400v160ZM180-400h160v-160H180v160Zm440 0h160v-160H620v160ZM180-180h160v-160H180v160Zm440 0h160v-160H620v160Z\"/>\n",
              "  </svg>\n",
              "    </button>\n",
              "\n",
              "  <style>\n",
              "    .colab-df-container {\n",
              "      display:flex;\n",
              "      gap: 12px;\n",
              "    }\n",
              "\n",
              "    .colab-df-convert {\n",
              "      background-color: #E8F0FE;\n",
              "      border: none;\n",
              "      border-radius: 50%;\n",
              "      cursor: pointer;\n",
              "      display: none;\n",
              "      fill: #1967D2;\n",
              "      height: 32px;\n",
              "      padding: 0 0 0 0;\n",
              "      width: 32px;\n",
              "    }\n",
              "\n",
              "    .colab-df-convert:hover {\n",
              "      background-color: #E2EBFA;\n",
              "      box-shadow: 0px 1px 2px rgba(60, 64, 67, 0.3), 0px 1px 3px 1px rgba(60, 64, 67, 0.15);\n",
              "      fill: #174EA6;\n",
              "    }\n",
              "\n",
              "    .colab-df-buttons div {\n",
              "      margin-bottom: 4px;\n",
              "    }\n",
              "\n",
              "    [theme=dark] .colab-df-convert {\n",
              "      background-color: #3B4455;\n",
              "      fill: #D2E3FC;\n",
              "    }\n",
              "\n",
              "    [theme=dark] .colab-df-convert:hover {\n",
              "      background-color: #434B5C;\n",
              "      box-shadow: 0px 1px 3px 1px rgba(0, 0, 0, 0.15);\n",
              "      filter: drop-shadow(0px 1px 2px rgba(0, 0, 0, 0.3));\n",
              "      fill: #FFFFFF;\n",
              "    }\n",
              "  </style>\n",
              "\n",
              "    <script>\n",
              "      const buttonEl =\n",
              "        document.querySelector('#df-2e243180-21fa-428b-a87f-d7e9d6ed8385 button.colab-df-convert');\n",
              "      buttonEl.style.display =\n",
              "        google.colab.kernel.accessAllowed ? 'block' : 'none';\n",
              "\n",
              "      async function convertToInteractive(key) {\n",
              "        const element = document.querySelector('#df-2e243180-21fa-428b-a87f-d7e9d6ed8385');\n",
              "        const dataTable =\n",
              "          await google.colab.kernel.invokeFunction('convertToInteractive',\n",
              "                                                    [key], {});\n",
              "        if (!dataTable) return;\n",
              "\n",
              "        const docLinkHtml = 'Like what you see? Visit the ' +\n",
              "          '<a target=\"_blank\" href=https://colab.research.google.com/notebooks/data_table.ipynb>data table notebook</a>'\n",
              "          + ' to learn more about interactive tables.';\n",
              "        element.innerHTML = '';\n",
              "        dataTable['output_type'] = 'display_data';\n",
              "        await google.colab.output.renderOutput(dataTable, element);\n",
              "        const docLink = document.createElement('div');\n",
              "        docLink.innerHTML = docLinkHtml;\n",
              "        element.appendChild(docLink);\n",
              "      }\n",
              "    </script>\n",
              "  </div>\n",
              "\n",
              "\n",
              "<div id=\"df-0579da1b-9cba-465f-8563-79919549a7be\">\n",
              "  <button class=\"colab-df-quickchart\" onclick=\"quickchart('df-0579da1b-9cba-465f-8563-79919549a7be')\"\n",
              "            title=\"Suggest charts\"\n",
              "            style=\"display:none;\">\n",
              "\n",
              "<svg xmlns=\"http://www.w3.org/2000/svg\" height=\"24px\"viewBox=\"0 0 24 24\"\n",
              "     width=\"24px\">\n",
              "    <g>\n",
              "        <path d=\"M19 3H5c-1.1 0-2 .9-2 2v14c0 1.1.9 2 2 2h14c1.1 0 2-.9 2-2V5c0-1.1-.9-2-2-2zM9 17H7v-7h2v7zm4 0h-2V7h2v10zm4 0h-2v-4h2v4z\"/>\n",
              "    </g>\n",
              "</svg>\n",
              "  </button>\n",
              "\n",
              "<style>\n",
              "  .colab-df-quickchart {\n",
              "      --bg-color: #E8F0FE;\n",
              "      --fill-color: #1967D2;\n",
              "      --hover-bg-color: #E2EBFA;\n",
              "      --hover-fill-color: #174EA6;\n",
              "      --disabled-fill-color: #AAA;\n",
              "      --disabled-bg-color: #DDD;\n",
              "  }\n",
              "\n",
              "  [theme=dark] .colab-df-quickchart {\n",
              "      --bg-color: #3B4455;\n",
              "      --fill-color: #D2E3FC;\n",
              "      --hover-bg-color: #434B5C;\n",
              "      --hover-fill-color: #FFFFFF;\n",
              "      --disabled-bg-color: #3B4455;\n",
              "      --disabled-fill-color: #666;\n",
              "  }\n",
              "\n",
              "  .colab-df-quickchart {\n",
              "    background-color: var(--bg-color);\n",
              "    border: none;\n",
              "    border-radius: 50%;\n",
              "    cursor: pointer;\n",
              "    display: none;\n",
              "    fill: var(--fill-color);\n",
              "    height: 32px;\n",
              "    padding: 0;\n",
              "    width: 32px;\n",
              "  }\n",
              "\n",
              "  .colab-df-quickchart:hover {\n",
              "    background-color: var(--hover-bg-color);\n",
              "    box-shadow: 0 1px 2px rgba(60, 64, 67, 0.3), 0 1px 3px 1px rgba(60, 64, 67, 0.15);\n",
              "    fill: var(--button-hover-fill-color);\n",
              "  }\n",
              "\n",
              "  .colab-df-quickchart-complete:disabled,\n",
              "  .colab-df-quickchart-complete:disabled:hover {\n",
              "    background-color: var(--disabled-bg-color);\n",
              "    fill: var(--disabled-fill-color);\n",
              "    box-shadow: none;\n",
              "  }\n",
              "\n",
              "  .colab-df-spinner {\n",
              "    border: 2px solid var(--fill-color);\n",
              "    border-color: transparent;\n",
              "    border-bottom-color: var(--fill-color);\n",
              "    animation:\n",
              "      spin 1s steps(1) infinite;\n",
              "  }\n",
              "\n",
              "  @keyframes spin {\n",
              "    0% {\n",
              "      border-color: transparent;\n",
              "      border-bottom-color: var(--fill-color);\n",
              "      border-left-color: var(--fill-color);\n",
              "    }\n",
              "    20% {\n",
              "      border-color: transparent;\n",
              "      border-left-color: var(--fill-color);\n",
              "      border-top-color: var(--fill-color);\n",
              "    }\n",
              "    30% {\n",
              "      border-color: transparent;\n",
              "      border-left-color: var(--fill-color);\n",
              "      border-top-color: var(--fill-color);\n",
              "      border-right-color: var(--fill-color);\n",
              "    }\n",
              "    40% {\n",
              "      border-color: transparent;\n",
              "      border-right-color: var(--fill-color);\n",
              "      border-top-color: var(--fill-color);\n",
              "    }\n",
              "    60% {\n",
              "      border-color: transparent;\n",
              "      border-right-color: var(--fill-color);\n",
              "    }\n",
              "    80% {\n",
              "      border-color: transparent;\n",
              "      border-right-color: var(--fill-color);\n",
              "      border-bottom-color: var(--fill-color);\n",
              "    }\n",
              "    90% {\n",
              "      border-color: transparent;\n",
              "      border-bottom-color: var(--fill-color);\n",
              "    }\n",
              "  }\n",
              "</style>\n",
              "\n",
              "  <script>\n",
              "    async function quickchart(key) {\n",
              "      const quickchartButtonEl =\n",
              "        document.querySelector('#' + key + ' button');\n",
              "      quickchartButtonEl.disabled = true;  // To prevent multiple clicks.\n",
              "      quickchartButtonEl.classList.add('colab-df-spinner');\n",
              "      try {\n",
              "        const charts = await google.colab.kernel.invokeFunction(\n",
              "            'suggestCharts', [key], {});\n",
              "      } catch (error) {\n",
              "        console.error('Error during call to suggestCharts:', error);\n",
              "      }\n",
              "      quickchartButtonEl.classList.remove('colab-df-spinner');\n",
              "      quickchartButtonEl.classList.add('colab-df-quickchart-complete');\n",
              "    }\n",
              "    (() => {\n",
              "      let quickchartButtonEl =\n",
              "        document.querySelector('#df-0579da1b-9cba-465f-8563-79919549a7be button');\n",
              "      quickchartButtonEl.style.display =\n",
              "        google.colab.kernel.accessAllowed ? 'block' : 'none';\n",
              "    })();\n",
              "  </script>\n",
              "</div>\n",
              "    </div>\n",
              "  </div>\n"
            ],
            "application/vnd.google.colaboratory.intrinsic+json": {
              "type": "dataframe",
              "variable_name": "df_combined",
              "summary": "{\n  \"name\": \"df_combined\",\n  \"rows\": 950,\n  \"fields\": [\n    {\n      \"column\": \"Content\",\n      \"properties\": {\n        \"dtype\": \"string\",\n        \"num_unique_values\": 949,\n        \"samples\": [\n          \"Spokesman for the Ministry of Health in Gaza: The situation in the Indonesian Hospital is catastrophic, and the Israeli occupation is intensifying its attacks on it Medical staff at the Indonesian Hospital are insisting on staying to treat the wounded The Israeli\",\n          \"Hours before cease-fire with Hamas begins, Netanyahu says hostage deal is \\\"right choice,\\\" vows war in Gaza will continue\",\n          \"Is there any chance for the development of a true dialogue between Israelis and #Palestinians, or for that matter, is there any chance for the development of a true dialogue within #Israeli society, with all its schisms and divides? - opinion\"\n        ],\n        \"semantic_type\": \"\",\n        \"description\": \"\"\n      }\n    },\n    {\n      \"column\": \"target\",\n      \"properties\": {\n        \"dtype\": \"boolean\",\n        \"num_unique_values\": 2,\n        \"samples\": [\n          true,\n          false\n        ],\n        \"semantic_type\": \"\",\n        \"description\": \"\"\n      }\n    }\n  ]\n}"
            }
          },
          "metadata": {},
          "execution_count": 122
        }
      ]
    },
    {
      "cell_type": "code",
      "source": [
        "# Extract a training & validation split\n",
        "validation_split = 0.2\n",
        "num_validation_samples = int(validation_split * len(df_combined))\n",
        "train_samples = df_combined[:-num_validation_samples]\n",
        "training_sentences = train_samples['Content'].values.astype(str)  # Convert to NumPy array and ensure string type\n",
        "labels = df_combined['target']"
      ],
      "metadata": {
        "id": "xlfaC1POXG0t"
      },
      "execution_count": null,
      "outputs": []
    },
    {
      "cell_type": "code",
      "source": [
        "val_samples = df_combined[-num_validation_samples:]\n",
        "testing_sentences  = val_samples['Content'].values.astype(str)  # Convert to NumPy array and ensure string type\n",
        "training_labels = labels[:-num_validation_samples]\n",
        "testing_labels = labels[-num_validation_samples:]"
      ],
      "metadata": {
        "id": "6_URV8XVV3FG"
      },
      "execution_count": null,
      "outputs": []
    },
    {
      "cell_type": "code",
      "source": [
        "training_sentences[0]"
      ],
      "metadata": {
        "colab": {
          "base_uri": "https://localhost:8080/",
          "height": 35
        },
        "id": "VM9cMfMQXqrt",
        "outputId": "5ca6614c-9ce8-4b22-c845-7d72ee47b641"
      },
      "execution_count": null,
      "outputs": [
        {
          "output_type": "execute_result",
          "data": {
            "text/plain": [
              "': Qatar, the mediator in the Gaza truce talks, has confirmed that a humanitarian pause has been agreed on.'"
            ],
            "application/vnd.google.colaboratory.intrinsic+json": {
              "type": "string"
            }
          },
          "metadata": {},
          "execution_count": 125
        }
      ]
    },
    {
      "cell_type": "code",
      "source": [
        "# Vocabulary size of the tokenizer\n",
        "vocab_size = 1000\n",
        "\n",
        "# Maximum length of the padded sequences\n",
        "max_length = 32\n",
        "\n",
        "# Output dimensions of the Embedding layer\n",
        "embedding_dim = 16"
      ],
      "metadata": {
        "id": "Re55vbj1UKr5"
      },
      "execution_count": null,
      "outputs": []
    },
    {
      "cell_type": "code",
      "execution_count": null,
      "metadata": {
        "id": "ygIzUlDHR-uL"
      },
      "outputs": [],
      "source": [
        "import numpy as np\n",
        "from tensorflow.keras.preprocessing.text import Tokenizer\n",
        "from tensorflow.keras.preprocessing.sequence import pad_sequences\n",
        "\n",
        "# Parameters for padding and OOV tokens\n",
        "trunc_type='post'\n",
        "padding_type='post'\n",
        "oov_tok = \"<OOV>\"\n",
        "\n",
        "# Initialize the Tokenizer class\n",
        "tokenizer = Tokenizer(num_words=vocab_size, oov_token=oov_tok)\n",
        "\n",
        "# Generate the word index dictionary\n",
        "tokenizer.fit_on_texts(training_sentences)\n",
        "word_index = tokenizer.word_index\n",
        "\n",
        "# Generate and pad the training sequences\n",
        "training_sequences = tokenizer.texts_to_sequences(training_sentences)\n",
        "training_padded = pad_sequences(training_sequences, maxlen=max_length, padding=padding_type, truncating=trunc_type)\n",
        "\n",
        "# Generate and pad the testing sequences\n",
        "testing_sequences = tokenizer.texts_to_sequences(testing_sentences)\n",
        "testing_padded = pad_sequences(testing_sequences, maxlen=max_length, padding=padding_type, truncating=trunc_type)\n",
        "\n",
        "# Convert the labels lists into numpy arrays\n",
        "training_labels = np.array(training_labels)\n",
        "testing_labels = np.array(testing_labels)"
      ]
    },
    {
      "cell_type": "code",
      "source": [
        "import tensorflow as tf\n",
        "\n",
        "# Initialize a GlobalAveragePooling1D (GAP1D) layer\n",
        "gap1d_layer = tf.keras.layers.GlobalAveragePooling1D()\n",
        "\n",
        "# Define sample array\n",
        "sample_array = np.array([[[10,2],[1,3],[1,1]]])\n",
        "\n",
        "# Print shape and contents of sample array\n",
        "print(f'shape of sample_array = {sample_array.shape}')\n",
        "print(f'sample array: {sample_array}')\n",
        "\n",
        "# Pass the sample array to the GAP1D layer\n",
        "output = gap1d_layer(sample_array)\n",
        "\n",
        "# Print shape and contents of the GAP1D output array\n",
        "print(f'output shape of gap1d_layer: {output.shape}')\n",
        "print(f'output array of gap1d_layer: {output.numpy()}')"
      ],
      "metadata": {
        "colab": {
          "base_uri": "https://localhost:8080/"
        },
        "id": "btWdj6JuY_ej",
        "outputId": "60e88199-96fe-4532-9a2b-28b4a6e3b6ad"
      },
      "execution_count": null,
      "outputs": [
        {
          "output_type": "stream",
          "name": "stdout",
          "text": [
            "shape of sample_array = (1, 3, 2)\n",
            "sample array: [[[10  2]\n",
            "  [ 1  3]\n",
            "  [ 1  1]]]\n",
            "output shape of gap1d_layer: (1, 2)\n",
            "output array of gap1d_layer: [[4 2]]\n"
          ]
        }
      ]
    },
    {
      "cell_type": "code",
      "source": [
        "# Build the model\n",
        "model = tf.keras.Sequential([\n",
        "    tf.keras.layers.Embedding(vocab_size, embedding_dim, input_length=max_length),\n",
        "    tf.keras.layers.Flatten(),\n",
        "    tf.keras.layers.Dense(24, activation='relu'),\n",
        "    tf.keras.layers.Dense(1, activation='sigmoid')\n",
        "])\n",
        "\n",
        "# Print the model summary\n",
        "model.summary()"
      ],
      "metadata": {
        "colab": {
          "base_uri": "https://localhost:8080/"
        },
        "id": "4Alrtk0ZZC5T",
        "outputId": "341211ba-e86d-4973-fd36-11f5c6427304"
      },
      "execution_count": null,
      "outputs": [
        {
          "output_type": "stream",
          "name": "stdout",
          "text": [
            "Model: \"sequential_17\"\n",
            "_________________________________________________________________\n",
            " Layer (type)                Output Shape              Param #   \n",
            "=================================================================\n",
            " embedding_25 (Embedding)    (None, 32, 16)            16000     \n",
            "                                                                 \n",
            " flatten_3 (Flatten)         (None, 512)               0         \n",
            "                                                                 \n",
            " dense_39 (Dense)            (None, 24)                12312     \n",
            "                                                                 \n",
            " dense_40 (Dense)            (None, 1)                 25        \n",
            "                                                                 \n",
            "=================================================================\n",
            "Total params: 28337 (110.69 KB)\n",
            "Trainable params: 28337 (110.69 KB)\n",
            "Non-trainable params: 0 (0.00 Byte)\n",
            "_________________________________________________________________\n"
          ]
        }
      ]
    },
    {
      "cell_type": "code",
      "source": [
        "# Compile the model\n",
        "model.compile(loss='binary_crossentropy',optimizer='adam',metrics=['accuracy'])"
      ],
      "metadata": {
        "id": "WY1P_c4QZInI"
      },
      "execution_count": null,
      "outputs": []
    },
    {
      "cell_type": "code",
      "source": [
        "num_epochs = 30\n",
        "\n",
        "# Train the model\n",
        "history = model.fit(training_padded, training_labels, epochs=num_epochs, validation_data=(testing_padded, testing_labels), verbose=2)"
      ],
      "metadata": {
        "colab": {
          "base_uri": "https://localhost:8080/"
        },
        "id": "82DH4AgpZL40",
        "outputId": "a37edbff-f515-49f5-8234-99dd930e916f"
      },
      "execution_count": null,
      "outputs": [
        {
          "output_type": "stream",
          "name": "stdout",
          "text": [
            "Epoch 1/30\n",
            "24/24 - 1s - loss: 0.6667 - accuracy: 0.6197 - val_loss: 0.8368 - val_accuracy: 0.0000e+00 - 1s/epoch - 42ms/step\n",
            "Epoch 2/30\n",
            "24/24 - 0s - loss: 0.5975 - accuracy: 0.6671 - val_loss: 0.9111 - val_accuracy: 0.1368 - 95ms/epoch - 4ms/step\n",
            "Epoch 3/30\n",
            "24/24 - 0s - loss: 0.5188 - accuracy: 0.8118 - val_loss: 0.8323 - val_accuracy: 0.4158 - 94ms/epoch - 4ms/step\n",
            "Epoch 4/30\n",
            "24/24 - 0s - loss: 0.3916 - accuracy: 0.9013 - val_loss: 0.7426 - val_accuracy: 0.5263 - 78ms/epoch - 3ms/step\n",
            "Epoch 5/30\n",
            "24/24 - 0s - loss: 0.2466 - accuracy: 0.9500 - val_loss: 0.6873 - val_accuracy: 0.6158 - 98ms/epoch - 4ms/step\n",
            "Epoch 6/30\n",
            "24/24 - 0s - loss: 0.1472 - accuracy: 0.9750 - val_loss: 0.5462 - val_accuracy: 0.7211 - 79ms/epoch - 3ms/step\n",
            "Epoch 7/30\n",
            "24/24 - 0s - loss: 0.0906 - accuracy: 0.9882 - val_loss: 0.5353 - val_accuracy: 0.7368 - 95ms/epoch - 4ms/step\n",
            "Epoch 8/30\n",
            "24/24 - 0s - loss: 0.0579 - accuracy: 0.9934 - val_loss: 0.6433 - val_accuracy: 0.6842 - 79ms/epoch - 3ms/step\n",
            "Epoch 9/30\n",
            "24/24 - 0s - loss: 0.0382 - accuracy: 0.9974 - val_loss: 0.4809 - val_accuracy: 0.7789 - 106ms/epoch - 4ms/step\n",
            "Epoch 10/30\n",
            "24/24 - 0s - loss: 0.0270 - accuracy: 0.9987 - val_loss: 0.5562 - val_accuracy: 0.7158 - 96ms/epoch - 4ms/step\n",
            "Epoch 11/30\n",
            "24/24 - 0s - loss: 0.0193 - accuracy: 1.0000 - val_loss: 0.5389 - val_accuracy: 0.7474 - 110ms/epoch - 5ms/step\n",
            "Epoch 12/30\n",
            "24/24 - 0s - loss: 0.0148 - accuracy: 0.9987 - val_loss: 0.5393 - val_accuracy: 0.7526 - 91ms/epoch - 4ms/step\n",
            "Epoch 13/30\n",
            "24/24 - 0s - loss: 0.0120 - accuracy: 1.0000 - val_loss: 0.5893 - val_accuracy: 0.7263 - 83ms/epoch - 3ms/step\n",
            "Epoch 14/30\n",
            "24/24 - 0s - loss: 0.0092 - accuracy: 1.0000 - val_loss: 0.5328 - val_accuracy: 0.7789 - 90ms/epoch - 4ms/step\n",
            "Epoch 15/30\n",
            "24/24 - 0s - loss: 0.0074 - accuracy: 1.0000 - val_loss: 0.5435 - val_accuracy: 0.7737 - 92ms/epoch - 4ms/step\n",
            "Epoch 16/30\n",
            "24/24 - 0s - loss: 0.0060 - accuracy: 1.0000 - val_loss: 0.5534 - val_accuracy: 0.7737 - 92ms/epoch - 4ms/step\n",
            "Epoch 17/30\n",
            "24/24 - 0s - loss: 0.0051 - accuracy: 1.0000 - val_loss: 0.5367 - val_accuracy: 0.7789 - 81ms/epoch - 3ms/step\n",
            "Epoch 18/30\n",
            "24/24 - 0s - loss: 0.0044 - accuracy: 1.0000 - val_loss: 0.5642 - val_accuracy: 0.7737 - 88ms/epoch - 4ms/step\n",
            "Epoch 19/30\n",
            "24/24 - 0s - loss: 0.0038 - accuracy: 1.0000 - val_loss: 0.5602 - val_accuracy: 0.7789 - 85ms/epoch - 4ms/step\n",
            "Epoch 20/30\n",
            "24/24 - 0s - loss: 0.0033 - accuracy: 1.0000 - val_loss: 0.5655 - val_accuracy: 0.7789 - 107ms/epoch - 4ms/step\n",
            "Epoch 21/30\n",
            "24/24 - 0s - loss: 0.0030 - accuracy: 1.0000 - val_loss: 0.5706 - val_accuracy: 0.7789 - 91ms/epoch - 4ms/step\n",
            "Epoch 22/30\n",
            "24/24 - 0s - loss: 0.0026 - accuracy: 1.0000 - val_loss: 0.5684 - val_accuracy: 0.7842 - 95ms/epoch - 4ms/step\n",
            "Epoch 23/30\n",
            "24/24 - 0s - loss: 0.0023 - accuracy: 1.0000 - val_loss: 0.5685 - val_accuracy: 0.7842 - 85ms/epoch - 4ms/step\n",
            "Epoch 24/30\n",
            "24/24 - 0s - loss: 0.0021 - accuracy: 1.0000 - val_loss: 0.5837 - val_accuracy: 0.7789 - 86ms/epoch - 4ms/step\n",
            "Epoch 25/30\n",
            "24/24 - 0s - loss: 0.0019 - accuracy: 1.0000 - val_loss: 0.5668 - val_accuracy: 0.7842 - 96ms/epoch - 4ms/step\n",
            "Epoch 26/30\n",
            "24/24 - 0s - loss: 0.0017 - accuracy: 1.0000 - val_loss: 0.5818 - val_accuracy: 0.7789 - 103ms/epoch - 4ms/step\n",
            "Epoch 27/30\n",
            "24/24 - 0s - loss: 0.0016 - accuracy: 1.0000 - val_loss: 0.5852 - val_accuracy: 0.7789 - 94ms/epoch - 4ms/step\n",
            "Epoch 28/30\n",
            "24/24 - 0s - loss: 0.0014 - accuracy: 1.0000 - val_loss: 0.5808 - val_accuracy: 0.7789 - 86ms/epoch - 4ms/step\n",
            "Epoch 29/30\n",
            "24/24 - 0s - loss: 0.0013 - accuracy: 1.0000 - val_loss: 0.5815 - val_accuracy: 0.7789 - 90ms/epoch - 4ms/step\n",
            "Epoch 30/30\n",
            "24/24 - 0s - loss: 0.0012 - accuracy: 1.0000 - val_loss: 0.5906 - val_accuracy: 0.7789 - 107ms/epoch - 4ms/step\n"
          ]
        }
      ]
    },
    {
      "cell_type": "code",
      "source": [
        "# Build model2\n",
        "model2 = tf.keras.Sequential([\n",
        "    tf.keras.layers.Embedding(vocab_size, embedding_dim, input_length=max_length),\n",
        "    tf.keras.layers.GlobalAveragePooling1D(),\n",
        "    tf.keras.layers.Dense(24, activation='relu'),\n",
        "    tf.keras.layers.Dense(1, activation='sigmoid')\n",
        "])\n",
        "\n",
        "# Print the model summary\n",
        "model2.summary()"
      ],
      "metadata": {
        "colab": {
          "base_uri": "https://localhost:8080/"
        },
        "id": "ve2py2HRaAEe",
        "outputId": "f5dea342-b72b-4dee-e591-a752384f8bf6"
      },
      "execution_count": null,
      "outputs": [
        {
          "output_type": "stream",
          "name": "stdout",
          "text": [
            "Model: \"sequential_18\"\n",
            "_________________________________________________________________\n",
            " Layer (type)                Output Shape              Param #   \n",
            "=================================================================\n",
            " embedding_26 (Embedding)    (None, 32, 16)            16000     \n",
            "                                                                 \n",
            " global_average_pooling1d_7  (None, 16)                0         \n",
            "  (GlobalAveragePooling1D)                                       \n",
            "                                                                 \n",
            " dense_41 (Dense)            (None, 24)                408       \n",
            "                                                                 \n",
            " dense_42 (Dense)            (None, 1)                 25        \n",
            "                                                                 \n",
            "=================================================================\n",
            "Total params: 16433 (64.19 KB)\n",
            "Trainable params: 16433 (64.19 KB)\n",
            "Non-trainable params: 0 (0.00 Byte)\n",
            "_________________________________________________________________\n"
          ]
        }
      ]
    },
    {
      "cell_type": "markdown",
      "source": [
        "Now with the simple flatten:"
      ],
      "metadata": {
        "id": "lbDnrTStZ9lz"
      }
    },
    {
      "cell_type": "code",
      "source": [
        "# Compile the model\n",
        "model2.compile(loss='binary_crossentropy',optimizer='adam',metrics=['accuracy'])"
      ],
      "metadata": {
        "id": "rQ6HZJWvaHLh"
      },
      "execution_count": null,
      "outputs": []
    },
    {
      "cell_type": "code",
      "source": [
        "num_epochs = 30\n",
        "\n",
        "# Train the model\n",
        "history = model2.fit(training_padded, training_labels, epochs=num_epochs, validation_data=(testing_padded, testing_labels), verbose=2)"
      ],
      "metadata": {
        "colab": {
          "base_uri": "https://localhost:8080/"
        },
        "outputId": "c3c6bff5-27fe-4d88-fbb1-620a43a47b62",
        "id": "9AM9rNZMaHLj"
      },
      "execution_count": null,
      "outputs": [
        {
          "output_type": "stream",
          "name": "stdout",
          "text": [
            "Epoch 1/30\n",
            "24/24 - 1s - loss: 0.6861 - accuracy: 0.6184 - val_loss: 0.7315 - val_accuracy: 0.0000e+00 - 1s/epoch - 56ms/step\n",
            "Epoch 2/30\n",
            "24/24 - 0s - loss: 0.6682 - accuracy: 0.6250 - val_loss: 0.7659 - val_accuracy: 0.0000e+00 - 122ms/epoch - 5ms/step\n",
            "Epoch 3/30\n",
            "24/24 - 0s - loss: 0.6442 - accuracy: 0.6250 - val_loss: 0.7965 - val_accuracy: 0.0000e+00 - 119ms/epoch - 5ms/step\n",
            "Epoch 4/30\n",
            "24/24 - 0s - loss: 0.6102 - accuracy: 0.6329 - val_loss: 0.7989 - val_accuracy: 0.0684 - 112ms/epoch - 5ms/step\n",
            "Epoch 5/30\n",
            "24/24 - 0s - loss: 0.5645 - accuracy: 0.7224 - val_loss: 0.7632 - val_accuracy: 0.3211 - 169ms/epoch - 7ms/step\n",
            "Epoch 6/30\n",
            "24/24 - 0s - loss: 0.5083 - accuracy: 0.8408 - val_loss: 0.6962 - val_accuracy: 0.5947 - 146ms/epoch - 6ms/step\n",
            "Epoch 7/30\n",
            "24/24 - 0s - loss: 0.4461 - accuracy: 0.8816 - val_loss: 0.5958 - val_accuracy: 0.7316 - 120ms/epoch - 5ms/step\n",
            "Epoch 8/30\n",
            "24/24 - 0s - loss: 0.3822 - accuracy: 0.8974 - val_loss: 0.5533 - val_accuracy: 0.7579 - 131ms/epoch - 5ms/step\n",
            "Epoch 9/30\n",
            "24/24 - 0s - loss: 0.3218 - accuracy: 0.9263 - val_loss: 0.4840 - val_accuracy: 0.7684 - 136ms/epoch - 6ms/step\n",
            "Epoch 10/30\n",
            "24/24 - 0s - loss: 0.2709 - accuracy: 0.9355 - val_loss: 0.4547 - val_accuracy: 0.8053 - 136ms/epoch - 6ms/step\n",
            "Epoch 11/30\n",
            "24/24 - 0s - loss: 0.2296 - accuracy: 0.9487 - val_loss: 0.4323 - val_accuracy: 0.8211 - 146ms/epoch - 6ms/step\n",
            "Epoch 12/30\n",
            "24/24 - 0s - loss: 0.1966 - accuracy: 0.9539 - val_loss: 0.4048 - val_accuracy: 0.8316 - 121ms/epoch - 5ms/step\n",
            "Epoch 13/30\n",
            "24/24 - 0s - loss: 0.1705 - accuracy: 0.9618 - val_loss: 0.3827 - val_accuracy: 0.8421 - 83ms/epoch - 3ms/step\n",
            "Epoch 14/30\n",
            "24/24 - 0s - loss: 0.1489 - accuracy: 0.9632 - val_loss: 0.3519 - val_accuracy: 0.8579 - 95ms/epoch - 4ms/step\n",
            "Epoch 15/30\n",
            "24/24 - 0s - loss: 0.1311 - accuracy: 0.9671 - val_loss: 0.3749 - val_accuracy: 0.8368 - 90ms/epoch - 4ms/step\n",
            "Epoch 16/30\n",
            "24/24 - 0s - loss: 0.1158 - accuracy: 0.9776 - val_loss: 0.3409 - val_accuracy: 0.8579 - 89ms/epoch - 4ms/step\n",
            "Epoch 17/30\n",
            "24/24 - 0s - loss: 0.1033 - accuracy: 0.9803 - val_loss: 0.3425 - val_accuracy: 0.8579 - 82ms/epoch - 3ms/step\n",
            "Epoch 18/30\n",
            "24/24 - 0s - loss: 0.0924 - accuracy: 0.9803 - val_loss: 0.3399 - val_accuracy: 0.8579 - 79ms/epoch - 3ms/step\n",
            "Epoch 19/30\n",
            "24/24 - 0s - loss: 0.0822 - accuracy: 0.9816 - val_loss: 0.3165 - val_accuracy: 0.8789 - 92ms/epoch - 4ms/step\n",
            "Epoch 20/30\n",
            "24/24 - 0s - loss: 0.0740 - accuracy: 0.9868 - val_loss: 0.2956 - val_accuracy: 0.8789 - 80ms/epoch - 3ms/step\n",
            "Epoch 21/30\n",
            "24/24 - 0s - loss: 0.0663 - accuracy: 0.9882 - val_loss: 0.3106 - val_accuracy: 0.8737 - 81ms/epoch - 3ms/step\n",
            "Epoch 22/30\n",
            "24/24 - 0s - loss: 0.0600 - accuracy: 0.9895 - val_loss: 0.3335 - val_accuracy: 0.8579 - 92ms/epoch - 4ms/step\n",
            "Epoch 23/30\n",
            "24/24 - 0s - loss: 0.0546 - accuracy: 0.9895 - val_loss: 0.3009 - val_accuracy: 0.8737 - 94ms/epoch - 4ms/step\n",
            "Epoch 24/30\n",
            "24/24 - 0s - loss: 0.0495 - accuracy: 0.9908 - val_loss: 0.3100 - val_accuracy: 0.8789 - 90ms/epoch - 4ms/step\n",
            "Epoch 25/30\n",
            "24/24 - 0s - loss: 0.0448 - accuracy: 0.9921 - val_loss: 0.3153 - val_accuracy: 0.8789 - 89ms/epoch - 4ms/step\n",
            "Epoch 26/30\n",
            "24/24 - 0s - loss: 0.0405 - accuracy: 0.9961 - val_loss: 0.3017 - val_accuracy: 0.8789 - 84ms/epoch - 3ms/step\n",
            "Epoch 27/30\n",
            "24/24 - 0s - loss: 0.0365 - accuracy: 0.9961 - val_loss: 0.3096 - val_accuracy: 0.8789 - 89ms/epoch - 4ms/step\n",
            "Epoch 28/30\n",
            "24/24 - 0s - loss: 0.0335 - accuracy: 0.9961 - val_loss: 0.3041 - val_accuracy: 0.8789 - 92ms/epoch - 4ms/step\n",
            "Epoch 29/30\n",
            "24/24 - 0s - loss: 0.0304 - accuracy: 0.9974 - val_loss: 0.3159 - val_accuracy: 0.8789 - 90ms/epoch - 4ms/step\n",
            "Epoch 30/30\n",
            "24/24 - 0s - loss: 0.0280 - accuracy: 0.9974 - val_loss: 0.3082 - val_accuracy: 0.8789 - 79ms/epoch - 3ms/step\n"
          ]
        }
      ]
    },
    {
      "cell_type": "code",
      "source": [
        "import matplotlib.pyplot as plt\n",
        "\n",
        "# Plot utility\n",
        "def plot_graphs(history, string):\n",
        "  plt.plot(history.history[string])\n",
        "  plt.plot(history.history['val_'+string])\n",
        "  plt.xlabel(\"Epochs\")\n",
        "  plt.ylabel(string)\n",
        "  plt.legend([string, 'val_'+string])\n",
        "  plt.show()\n",
        "\n",
        "# Plot the accuracy and loss\n",
        "plot_graphs(history, \"accuracy\")\n",
        "plot_graphs(history, \"loss\")"
      ],
      "metadata": {
        "colab": {
          "base_uri": "https://localhost:8080/",
          "height": 881
        },
        "id": "e-zyd-JicW6a",
        "outputId": "94cb1cff-0cbe-462f-93e6-2fa3484eff37"
      },
      "execution_count": null,
      "outputs": [
        {
          "output_type": "display_data",
          "data": {
            "text/plain": [
              "<Figure size 640x480 with 1 Axes>"
            ],
            "image/png": "[encoded data removed]"
          },
          "metadata": {}
        },
        {
          "output_type": "display_data",
          "data": {
            "text/plain": [
              "<Figure size 640x480 with 1 Axes>"
            ],
            "image/png": "[encoded data removed]"
          },
          "metadata": {}
        }
      ]
    },
    {
      "cell_type": "code",
      "source": [
        "# Get the index-word dictionary\n",
        "reverse_word_index = tokenizer.index_word\n",
        "\n",
        "# Get the embedding layer from the model (i.e. first layer)\n",
        "embedding_layer = model.layers[0]\n",
        "\n",
        "# Get the weights of the embedding layer\n",
        "embedding_weights = embedding_layer.get_weights()[0]\n",
        "\n",
        "# Print the shape. Expected is (vocab_size, embedding_dim)\n",
        "print(embedding_weights.shape)"
      ],
      "metadata": {
        "colab": {
          "base_uri": "https://localhost:8080/"
        },
        "id": "kH1kNZ12gWxU",
        "outputId": "076b5c63-decc-42e4-a0a7-bea9036e4fe7"
      },
      "execution_count": null,
      "outputs": [
        {
          "output_type": "stream",
          "name": "stdout",
          "text": [
            "(1000, 16)\n"
          ]
        }
      ]
    },
    {
      "cell_type": "markdown",
      "source": [
        "# Building a transfer learning model based on Glove"
      ],
      "metadata": {
        "id": "aF1Xq2ksWzdq"
      }
    },
    {
      "cell_type": "code",
      "source": [
        "import gensim.downloader as api"
      ],
      "metadata": {
        "id": "a8cjPDjgkpKz"
      },
      "execution_count": null,
      "outputs": []
    },
    {
      "cell_type": "code",
      "source": [
        "glove_model = api.load(\"glove-wiki-gigaword-300\")\n",
        "embedding_dim = glove_model.vector_size"
      ],
      "metadata": {
        "id": "t3IMU4x7W4rn"
      },
      "execution_count": null,
      "outputs": []
    },
    {
      "cell_type": "markdown",
      "source": [
        "Train test split with this seed"
      ],
      "metadata": {
        "id": "xZZ5fxyCXHOP"
      }
    },
    {
      "cell_type": "code",
      "source": [
        "from sklearn.model_selection import train_test_split\n",
        "\n",
        "samples = df_combined['Content'].values\n",
        "labels = df_combined['target'].values\n",
        "\n",
        "# Split the dataset into training and validation sets\n",
        "train_samples, val_samples, train_labels, val_labels = train_test_split(samples, labels, test_size=0.2, random_state=1337)"
      ],
      "metadata": {
        "id": "ZLmUWG5zW6kN"
      },
      "execution_count": null,
      "outputs": []
    },
    {
      "cell_type": "code",
      "source": [
        "from tensorflow.keras.layers import TextVectorization\n",
        "\n",
        "vectorizer = TextVectorization(max_tokens=20000, output_sequence_length=200)\n",
        "text_ds = tf.data.Dataset.from_tensor_slices(train_samples).batch(128)\n",
        "vectorizer.adapt(text_ds)"
      ],
      "metadata": {
        "id": "rM5tLz44XSZE"
      },
      "execution_count": null,
      "outputs": []
    },
    {
      "cell_type": "code",
      "source": [
        "voc = vectorizer.get_vocabulary()\n",
        "word_index = dict(zip(voc, range(len(voc))))"
      ],
      "metadata": {
        "id": "7K6R2jzmXXR6"
      },
      "execution_count": null,
      "outputs": []
    },
    {
      "cell_type": "code",
      "source": [
        "vocab_size = len(word_index)\n",
        "num_tokens = len(voc) + 2\n",
        "embedding_matrix = np.zeros((num_tokens, embedding_dim))\n",
        "\n",
        "hits = 0\n",
        "misses = 0\n",
        "\n",
        "# Prepare embedding matrix\n",
        "for word, i in word_index.items():\n",
        "    if word in glove_model:\n",
        "      hits += 1\n",
        "      embedding_matrix[i] = glove_model[word]\n",
        "    else:\n",
        "        misses += 1\n",
        "print(\"Converted %d words (%d misses)\" % (hits, misses))"
      ],
      "metadata": {
        "colab": {
          "base_uri": "https://localhost:8080/"
        },
        "id": "sewqM1yrXbdc",
        "outputId": "89741875-06f1-459a-d7d9-594dc95575da"
      },
      "execution_count": null,
      "outputs": [
        {
          "output_type": "stream",
          "name": "stdout",
          "text": [
            "Converted 3601 words (749 misses)\n"
          ]
        }
      ]
    },
    {
      "cell_type": "markdown",
      "source": [
        "Build the embedding layer"
      ],
      "metadata": {
        "id": "iQ5atqZMXfDn"
      }
    },
    {
      "cell_type": "code",
      "source": [
        "from tensorflow.keras.layers import Embedding\n",
        "\n",
        "int_sequences_input = tf.keras.Input(shape=(None,), dtype=\"int64\")\n",
        "\n",
        "embedding_layer = Embedding(\n",
        "    num_tokens,\n",
        "    embedding_dim,\n",
        "    embeddings_initializer=keras.initializers.Constant(embedding_matrix),\n",
        "    trainable=False,\n",
        ")"
      ],
      "metadata": {
        "id": "VEVKgoubXfKy"
      },
      "execution_count": null,
      "outputs": []
    },
    {
      "cell_type": "markdown",
      "source": [
        "Construct the model"
      ],
      "metadata": {
        "id": "qZQwEjxgXkQe"
      }
    },
    {
      "cell_type": "code",
      "source": [
        "model = Sequential([\n",
        "    Embedding(input_dim=num_tokens, output_dim=embedding_dim, input_length=None),\n",
        "    Conv1D(128, 5, activation=\"relu\"),\n",
        "    MaxPooling1D(5),\n",
        "    Conv1D(128, 5, activation=\"relu\"),\n",
        "    MaxPooling1D(5),\n",
        "    Conv1D(128, 5, activation=\"relu\"),\n",
        "    GlobalMaxPooling1D(),\n",
        "    Dense(128, activation=\"relu\"),\n",
        "    Dropout(0.5),\n",
        "    Dense(1, activation=\"sigmoid\")\n",
        "])\n",
        "\n",
        "\n",
        "model.compile(loss=\"binary_crossentropy\", optimizer=\"Adam\", metrics=[\"accuracy\"])"
      ],
      "metadata": {
        "id": "Meh7hqHZXkvV"
      },
      "execution_count": null,
      "outputs": []
    },
    {
      "cell_type": "code",
      "source": [
        "model.summary()"
      ],
      "metadata": {
        "colab": {
          "base_uri": "https://localhost:8080/"
        },
        "id": "PDFB4a9Wphxk",
        "outputId": "c9a2e389-529a-4356-9398-7c6f7adc70bc"
      },
      "execution_count": null,
      "outputs": [
        {
          "output_type": "stream",
          "name": "stdout",
          "text": [
            "Model: \"sequential_19\"\n",
            "_________________________________________________________________\n",
            " Layer (type)                Output Shape              Param #   \n",
            "=================================================================\n",
            " embedding_28 (Embedding)    (None, None, 300)         1305600   \n",
            "                                                                 \n",
            " conv1d_42 (Conv1D)          (None, None, 128)         192128    \n",
            "                                                                 \n",
            " max_pooling1d_28 (MaxPooli  (None, None, 128)         0         \n",
            " ng1D)                                                           \n",
            "                                                                 \n",
            " conv1d_43 (Conv1D)          (None, None, 128)         82048     \n",
            "                                                                 \n",
            " max_pooling1d_29 (MaxPooli  (None, None, 128)         0         \n",
            " ng1D)                                                           \n",
            "                                                                 \n",
            " conv1d_44 (Conv1D)          (None, None, 128)         82048     \n",
            "                                                                 \n",
            " global_max_pooling1d_14 (G  (None, 128)               0         \n",
            " lobalMaxPooling1D)                                              \n",
            "                                                                 \n",
            " dense_43 (Dense)            (None, 128)               16512     \n",
            "                                                                 \n",
            " dropout_14 (Dropout)        (None, 128)               0         \n",
            "                                                                 \n",
            " dense_44 (Dense)            (None, 1)                 129       \n",
            "                                                                 \n",
            "=================================================================\n",
            "Total params: 1678465 (6.40 MB)\n",
            "Trainable params: 1678465 (6.40 MB)\n",
            "Non-trainable params: 0 (0.00 Byte)\n",
            "_________________________________________________________________\n"
          ]
        }
      ]
    },
    {
      "cell_type": "markdown",
      "source": [
        "Build the train and val"
      ],
      "metadata": {
        "id": "YsInKSgCXtpt"
      }
    },
    {
      "cell_type": "code",
      "source": [
        "x_train = vectorizer(np.array(train_samples)).numpy()\n",
        "x_val = vectorizer(np.array(val_samples)).numpy()\n",
        "\n",
        "y_train = np.array(train_labels)\n",
        "y_val = np.array(val_labels)"
      ],
      "metadata": {
        "id": "RosUJuf_Xtwz"
      },
      "execution_count": null,
      "outputs": []
    },
    {
      "cell_type": "markdown",
      "source": [
        "Train and see model works well on the train data and the validation has good accuracy but not perfect but low loss also."
      ],
      "metadata": {
        "id": "Y9QmN7LopUZB"
      }
    },
    {
      "cell_type": "code",
      "source": [
        "model.fit(x_train, y_train, batch_size=128, epochs=30, validation_data=(x_val, y_val))"
      ],
      "metadata": {
        "colab": {
          "base_uri": "https://localhost:8080/"
        },
        "id": "mmrhfiUQYAKU",
        "outputId": "f50d1ad5-d665-42b9-e6ba-ce01227f78f1"
      },
      "execution_count": null,
      "outputs": [
        {
          "output_type": "stream",
          "name": "stdout",
          "text": [
            "Epoch 1/30\n",
            "6/6 [==============================] - 6s 699ms/step - loss: 0.6921 - accuracy: 0.5158 - val_loss: 0.7015 - val_accuracy: 0.4368\n",
            "Epoch 2/30\n",
            "6/6 [==============================] - 4s 653ms/step - loss: 0.6834 - accuracy: 0.5421 - val_loss: 0.6915 - val_accuracy: 0.4368\n",
            "Epoch 3/30\n",
            "6/6 [==============================] - 5s 876ms/step - loss: 0.6387 - accuracy: 0.6026 - val_loss: 0.6367 - val_accuracy: 0.6947\n",
            "Epoch 4/30\n",
            "6/6 [==============================] - 4s 647ms/step - loss: 0.4795 - accuracy: 0.8855 - val_loss: 0.4905 - val_accuracy: 0.8211\n",
            "Epoch 5/30\n",
            "6/6 [==============================] - 4s 650ms/step - loss: 0.2173 - accuracy: 0.9684 - val_loss: 0.3077 - val_accuracy: 0.8789\n",
            "Epoch 6/30\n",
            "6/6 [==============================] - 5s 866ms/step - loss: 0.0467 - accuracy: 0.9868 - val_loss: 0.3504 - val_accuracy: 0.8842\n",
            "Epoch 7/30\n",
            "6/6 [==============================] - 4s 642ms/step - loss: 0.0085 - accuracy: 0.9961 - val_loss: 0.5765 - val_accuracy: 0.8842\n",
            "Epoch 8/30\n",
            "6/6 [==============================] - 4s 642ms/step - loss: 0.0025 - accuracy: 0.9987 - val_loss: 0.6850 - val_accuracy: 0.8947\n",
            "Epoch 9/30\n",
            "6/6 [==============================] - 5s 850ms/step - loss: 0.0011 - accuracy: 1.0000 - val_loss: 0.7826 - val_accuracy: 0.8842\n",
            "Epoch 10/30\n",
            "6/6 [==============================] - 4s 632ms/step - loss: 1.9731e-04 - accuracy: 1.0000 - val_loss: 0.8472 - val_accuracy: 0.8789\n",
            "Epoch 11/30\n",
            "6/6 [==============================] - 4s 648ms/step - loss: 1.5376e-04 - accuracy: 1.0000 - val_loss: 0.8863 - val_accuracy: 0.8895\n",
            "Epoch 12/30\n",
            "6/6 [==============================] - 5s 849ms/step - loss: 2.4094e-04 - accuracy: 1.0000 - val_loss: 0.9132 - val_accuracy: 0.8895\n",
            "Epoch 13/30\n",
            "6/6 [==============================] - 4s 651ms/step - loss: 1.2999e-04 - accuracy: 1.0000 - val_loss: 0.9334 - val_accuracy: 0.8947\n",
            "Epoch 14/30\n",
            "6/6 [==============================] - 4s 670ms/step - loss: 1.0531e-04 - accuracy: 1.0000 - val_loss: 0.9484 - val_accuracy: 0.8947\n",
            "Epoch 15/30\n",
            "6/6 [==============================] - 5s 855ms/step - loss: 1.7112e-04 - accuracy: 1.0000 - val_loss: 0.9550 - val_accuracy: 0.8947\n",
            "Epoch 16/30\n",
            "6/6 [==============================] - 4s 645ms/step - loss: 1.9355e-04 - accuracy: 1.0000 - val_loss: 0.9501 - val_accuracy: 0.8947\n",
            "Epoch 17/30\n",
            "6/6 [==============================] - 4s 652ms/step - loss: 1.3328e-04 - accuracy: 1.0000 - val_loss: 0.9509 - val_accuracy: 0.8947\n",
            "Epoch 18/30\n",
            "6/6 [==============================] - 5s 859ms/step - loss: 1.0962e-04 - accuracy: 1.0000 - val_loss: 0.9544 - val_accuracy: 0.8895\n",
            "Epoch 19/30\n",
            "6/6 [==============================] - 4s 649ms/step - loss: 5.6733e-05 - accuracy: 1.0000 - val_loss: 0.9613 - val_accuracy: 0.8842\n",
            "Epoch 20/30\n",
            "6/6 [==============================] - 4s 639ms/step - loss: 1.7106e-04 - accuracy: 1.0000 - val_loss: 0.9668 - val_accuracy: 0.8842\n",
            "Epoch 21/30\n",
            "6/6 [==============================] - 5s 859ms/step - loss: 6.6275e-05 - accuracy: 1.0000 - val_loss: 0.9708 - val_accuracy: 0.8842\n",
            "Epoch 22/30\n",
            "6/6 [==============================] - 4s 635ms/step - loss: 2.5340e-05 - accuracy: 1.0000 - val_loss: 0.9732 - val_accuracy: 0.8842\n",
            "Epoch 23/30\n",
            "6/6 [==============================] - 4s 640ms/step - loss: 3.2891e-05 - accuracy: 1.0000 - val_loss: 0.9753 - val_accuracy: 0.8842\n",
            "Epoch 24/30\n",
            "6/6 [==============================] - 5s 870ms/step - loss: 2.8050e-05 - accuracy: 1.0000 - val_loss: 0.9778 - val_accuracy: 0.8895\n",
            "Epoch 25/30\n",
            "6/6 [==============================] - 4s 636ms/step - loss: 7.3308e-05 - accuracy: 1.0000 - val_loss: 0.9811 - val_accuracy: 0.8895\n",
            "Epoch 26/30\n",
            "6/6 [==============================] - 4s 638ms/step - loss: 4.8800e-05 - accuracy: 1.0000 - val_loss: 0.9847 - val_accuracy: 0.8895\n",
            "Epoch 27/30\n",
            "6/6 [==============================] - 5s 815ms/step - loss: 2.4130e-05 - accuracy: 1.0000 - val_loss: 0.9883 - val_accuracy: 0.8895\n",
            "Epoch 28/30\n",
            "6/6 [==============================] - 4s 654ms/step - loss: 3.0331e-05 - accuracy: 1.0000 - val_loss: 0.9917 - val_accuracy: 0.8895\n",
            "Epoch 29/30\n",
            "6/6 [==============================] - 4s 633ms/step - loss: 6.3443e-04 - accuracy: 1.0000 - val_loss: 1.0460 - val_accuracy: 0.9000\n",
            "Epoch 30/30\n",
            "6/6 [==============================] - 5s 855ms/step - loss: 5.3085e-04 - accuracy: 1.0000 - val_loss: 1.4286 - val_accuracy: 0.8789\n"
          ]
        },
        {
          "output_type": "execute_result",
          "data": {
            "text/plain": [
              "<keras.src.callbacks.History at 0x7a5bbbe51480>"
            ]
          },
          "metadata": {},
          "execution_count": 118
        }
      ]
    },
    {
      "cell_type": "markdown",
      "source": [
        "Chi features"
      ],
      "metadata": {
        "id": "rM_h9E4MYD_P"
      }
    },
    {
      "cell_type": "markdown",
      "source": [
        "Pull the best 200 features"
      ],
      "metadata": {
        "id": "LKy91cqnvjtH"
      }
    },
    {
      "cell_type": "code",
      "source": [
        "from sklearn.feature_selection import SelectKBest, chi2\n",
        "\n",
        "num_features = 200\n",
        "chi2_selector = SelectKBest(chi2, k=num_features)\n",
        "x_train_selected = chi2_selector.fit_transform(x_train, y_train)\n",
        "x_val_selected = chi2_selector.transform(x_val)"
      ],
      "metadata": {
        "id": "WozxdYmukxc-"
      },
      "execution_count": null,
      "outputs": []
    },
    {
      "cell_type": "markdown",
      "source": [
        "Create an embedding layer for the sequences"
      ],
      "metadata": {
        "id": "cAacxzuVk7Xo"
      }
    },
    {
      "cell_type": "code",
      "source": [
        "# Build the GloVe model with chi2-selected features\n",
        "embedding_layer = Embedding(\n",
        "    num_tokens,\n",
        "    embedding_dim,\n",
        "    embeddings_initializer=keras.initializers.Constant(embedding_matrix),\n",
        "    trainable=False,\n",
        ")"
      ],
      "metadata": {
        "id": "-f5p8B9Mk7eN"
      },
      "execution_count": null,
      "outputs": []
    },
    {
      "cell_type": "markdown",
      "source": [
        "With the embedding Layer, build the CNN and pull the summary"
      ],
      "metadata": {
        "id": "L4gKKbvHlBoQ"
      }
    },
    {
      "cell_type": "code",
      "source": [
        "from sklearn.feature_selection import SelectKBest, chi2\n",
        "from sklearn.pipeline import Pipeline\n",
        "from sklearn.preprocessing import FunctionTransformer\n",
        "from tensorflow.keras.layers import Embedding, Conv1D, MaxPooling1D, GlobalMaxPooling1D, Dense, Dropout\n",
        "from tensorflow.keras.models import Sequential\n",
        "import tensorflow as tf\n",
        "\n",
        "# Define the GloVe embedding layer\n",
        "embedding_layer = Embedding(\n",
        "    num_tokens,\n",
        "    embedding_dim,\n",
        "    embeddings_initializer=tf.keras.initializers.Constant(embedding_matrix),\n",
        "    trainable=False\n",
        ")\n",
        "\n",
        "int_sequences_input = keras.Input(shape=(num_features,), dtype=\"float32\")  # Input shape based on selected features\n",
        "embedded_sequences = embedding_layer(int_sequences_input)\n",
        "\n",
        "# Define the model architecture using Sequential\n",
        "model = Sequential([\n",
        "    Embedding(input_dim=num_tokens, output_dim=embedding_dim, input_length=num_features),\n",
        "    Conv1D(128, 5, activation=\"relu\"),\n",
        "    MaxPooling1D(5),\n",
        "    Conv1D(128, 5, activation=\"relu\"),\n",
        "    MaxPooling1D(5),\n",
        "    Conv1D(128, 5, activation=\"relu\"),\n",
        "    GlobalMaxPooling1D(),\n",
        "    Dense(128, activation=\"relu\"),\n",
        "    Dropout(0.5),\n",
        "    Dense(1, activation=\"sigmoid\")\n",
        "])\n",
        "\n",
        "# Print the model summary\n",
        "model.summary()\n"
      ],
      "metadata": {
        "colab": {
          "base_uri": "https://localhost:8080/"
        },
        "id": "mYY9pGZsl5d9",
        "outputId": "40936c11-7416-48e7-fed9-ec67ca600a89"
      },
      "execution_count": null,
      "outputs": [
        {
          "output_type": "stream",
          "name": "stdout",
          "text": [
            "Model: \"sequential_20\"\n",
            "_________________________________________________________________\n",
            " Layer (type)                Output Shape              Param #   \n",
            "=================================================================\n",
            " embedding_31 (Embedding)    (None, 200, 300)          1305600   \n",
            "                                                                 \n",
            " conv1d_45 (Conv1D)          (None, 196, 128)          192128    \n",
            "                                                                 \n",
            " max_pooling1d_30 (MaxPooli  (None, 39, 128)           0         \n",
            " ng1D)                                                           \n",
            "                                                                 \n",
            " conv1d_46 (Conv1D)          (None, 35, 128)           82048     \n",
            "                                                                 \n",
            " max_pooling1d_31 (MaxPooli  (None, 7, 128)            0         \n",
            " ng1D)                                                           \n",
            "                                                                 \n",
            " conv1d_47 (Conv1D)          (None, 3, 128)            82048     \n",
            "                                                                 \n",
            " global_max_pooling1d_15 (G  (None, 128)               0         \n",
            " lobalMaxPooling1D)                                              \n",
            "                                                                 \n",
            " dense_45 (Dense)            (None, 128)               16512     \n",
            "                                                                 \n",
            " dropout_15 (Dropout)        (None, 128)               0         \n",
            "                                                                 \n",
            " dense_46 (Dense)            (None, 1)                 129       \n",
            "                                                                 \n",
            "=================================================================\n",
            "Total params: 1678465 (6.40 MB)\n",
            "Trainable params: 1678465 (6.40 MB)\n",
            "Non-trainable params: 0 (0.00 Byte)\n",
            "_________________________________________________________________\n"
          ]
        }
      ]
    },
    {
      "cell_type": "markdown",
      "source": [
        "Compile"
      ],
      "metadata": {
        "id": "haJsJtf5vsL5"
      }
    },
    {
      "cell_type": "code",
      "source": [
        "# Compile and train the model with selected features\n",
        "model.compile(\n",
        "    loss=\"binary_crossentropy\", optimizer=\"adam\", metrics=[\"acc\"],\n",
        ")"
      ],
      "metadata": {
        "id": "orjRFcFStWFO"
      },
      "execution_count": null,
      "outputs": []
    },
    {
      "cell_type": "markdown",
      "source": [
        "Run the model and see not great loss by validation data but alright accuracy.\n",
        "\n",
        "\n"
      ],
      "metadata": {
        "id": "EJYR9U7Ku3hm"
      }
    },
    {
      "cell_type": "code",
      "source": [
        "model.fit(x_train_selected, y_train, batch_size=128, epochs=30, validation_data=(x_val_selected, y_val))"
      ],
      "metadata": {
        "colab": {
          "base_uri": "https://localhost:8080/"
        },
        "id": "rln4SZ4otXRk",
        "outputId": "888b6ced-b99c-40ac-91d8-36718ba6bcce"
      },
      "execution_count": null,
      "outputs": [
        {
          "output_type": "stream",
          "name": "stdout",
          "text": [
            "Epoch 1/30\n",
            "6/6 [==============================] - 6s 714ms/step - loss: 0.6929 - acc: 0.5171 - val_loss: 0.6991 - val_acc: 0.4368\n",
            "Epoch 2/30\n",
            "6/6 [==============================] - 4s 731ms/step - loss: 0.6843 - acc: 0.5526 - val_loss: 0.7027 - val_acc: 0.4368\n",
            "Epoch 3/30\n",
            "6/6 [==============================] - 5s 730ms/step - loss: 0.6556 - acc: 0.6250 - val_loss: 0.6562 - val_acc: 0.7211\n",
            "Epoch 4/30\n",
            "6/6 [==============================] - 4s 661ms/step - loss: 0.5335 - acc: 0.8329 - val_loss: 0.5009 - val_acc: 0.8421\n",
            "Epoch 5/30\n",
            "6/6 [==============================] - 4s 684ms/step - loss: 0.2726 - acc: 0.9434 - val_loss: 0.2700 - val_acc: 0.8895\n",
            "Epoch 6/30\n",
            "6/6 [==============================] - 5s 731ms/step - loss: 0.0778 - acc: 0.9803 - val_loss: 0.3908 - val_acc: 0.8947\n",
            "Epoch 7/30\n",
            "6/6 [==============================] - 4s 657ms/step - loss: 0.0170 - acc: 0.9974 - val_loss: 0.3022 - val_acc: 0.8947\n",
            "Epoch 8/30\n",
            "6/6 [==============================] - 4s 697ms/step - loss: 0.0033 - acc: 0.9987 - val_loss: 0.4133 - val_acc: 0.8789\n",
            "Epoch 9/30\n",
            "6/6 [==============================] - 5s 765ms/step - loss: 3.1630e-04 - acc: 1.0000 - val_loss: 0.4639 - val_acc: 0.8842\n",
            "Epoch 10/30\n",
            "6/6 [==============================] - 4s 666ms/step - loss: 4.2770e-04 - acc: 1.0000 - val_loss: 0.5089 - val_acc: 0.8895\n",
            "Epoch 11/30\n",
            "6/6 [==============================] - 4s 681ms/step - loss: 2.4529e-04 - acc: 1.0000 - val_loss: 0.5395 - val_acc: 0.8789\n",
            "Epoch 12/30\n",
            "6/6 [==============================] - 5s 728ms/step - loss: 1.1529e-04 - acc: 1.0000 - val_loss: 0.5580 - val_acc: 0.8789\n",
            "Epoch 13/30\n",
            "6/6 [==============================] - 4s 654ms/step - loss: 1.0623e-04 - acc: 1.0000 - val_loss: 0.5693 - val_acc: 0.8789\n",
            "Epoch 14/30\n",
            "6/6 [==============================] - 4s 719ms/step - loss: 6.5481e-05 - acc: 1.0000 - val_loss: 0.5765 - val_acc: 0.8789\n",
            "Epoch 15/30\n",
            "6/6 [==============================] - 5s 702ms/step - loss: 6.2098e-05 - acc: 1.0000 - val_loss: 0.5819 - val_acc: 0.8842\n",
            "Epoch 16/30\n",
            "6/6 [==============================] - 4s 641ms/step - loss: 2.8851e-05 - acc: 1.0000 - val_loss: 0.5859 - val_acc: 0.8842\n",
            "Epoch 17/30\n",
            "6/6 [==============================] - 4s 723ms/step - loss: 4.7017e-05 - acc: 1.0000 - val_loss: 0.5896 - val_acc: 0.8842\n",
            "Epoch 18/30\n",
            "6/6 [==============================] - 5s 719ms/step - loss: 3.9682e-05 - acc: 1.0000 - val_loss: 0.5924 - val_acc: 0.8842\n",
            "Epoch 19/30\n",
            "6/6 [==============================] - 4s 643ms/step - loss: 4.5905e-05 - acc: 1.0000 - val_loss: 0.5946 - val_acc: 0.8895\n",
            "Epoch 20/30\n",
            "6/6 [==============================] - 4s 714ms/step - loss: 7.2371e-05 - acc: 1.0000 - val_loss: 0.5979 - val_acc: 0.8895\n",
            "Epoch 21/30\n",
            "6/6 [==============================] - 5s 715ms/step - loss: 3.8285e-05 - acc: 1.0000 - val_loss: 0.6015 - val_acc: 0.8895\n",
            "Epoch 22/30\n",
            "6/6 [==============================] - 4s 650ms/step - loss: 2.6235e-05 - acc: 1.0000 - val_loss: 0.6044 - val_acc: 0.8789\n",
            "Epoch 23/30\n",
            "6/6 [==============================] - 4s 730ms/step - loss: 4.8752e-05 - acc: 1.0000 - val_loss: 0.6062 - val_acc: 0.8789\n",
            "Epoch 24/30\n",
            "6/6 [==============================] - 5s 725ms/step - loss: 4.5364e-05 - acc: 1.0000 - val_loss: 0.6064 - val_acc: 0.8789\n",
            "Epoch 25/30\n",
            "6/6 [==============================] - 4s 632ms/step - loss: 3.0649e-05 - acc: 1.0000 - val_loss: 0.6054 - val_acc: 0.8895\n",
            "Epoch 26/30\n",
            "3/6 [==============>...............] - ETA: 1s - loss: 2.6454e-05 - acc: 1.0000"
          ]
        }
      ]
    },
    {
      "cell_type": "markdown",
      "source": [],
      "metadata": {
        "id": "gVLg_pLtk9wC"
      }
    }
  ]
}