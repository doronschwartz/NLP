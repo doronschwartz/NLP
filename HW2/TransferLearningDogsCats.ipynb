{
  "nbformat": 4,
  "nbformat_minor": 0,
  "metadata": {
    "colab": {
      "provenance": [],
      "authorship_tag": "ABX9TyOkmMQNzTrW5g0yILfDz2IC",
      "include_colab_link": true
    },
    "kernelspec": {
      "name": "python3",
      "display_name": "Python 3"
    },
    "language_info": {
      "name": "python"
    }
  },
  "cells": [
    {
      "cell_type": "markdown",
      "metadata": {
        "id": "view-in-github",
        "colab_type": "text"
      },
      "source": [
        "<a href=\"https://colab.research.google.com/github/doronschwartz/NLP/blob/main/HW2/TransferLearningDogsCats.ipynb\" target=\"_parent\"><img src=\"https://colab.research.google.com/assets/colab-badge.svg\" alt=\"Open In Colab\"/></a>"
      ]
    },
    {
      "cell_type": "code",
      "source": [
        "!wget --no-check-certificate \\\n",
        "   https://storage.googleapis.com/mledu-datasets/cats_and_dogs_filtered.zip -O \\\n",
        "   /tmp/cats_and_dogs_filtered.zip\n"
      ],
      "metadata": {
        "colab": {
          "base_uri": "https://localhost:8080/"
        },
        "id": "nBSOi9H2RqJb",
        "outputId": "99da1aa5-7f76-4e26-dc30-029a35530e81"
      },
      "execution_count": 1,
      "outputs": [
        {
          "output_type": "stream",
          "name": "stdout",
          "text": [
            "--2024-03-06 15:00:48--  https://storage.googleapis.com/mledu-datasets/cats_and_dogs_filtered.zip\n",
            "Resolving storage.googleapis.com (storage.googleapis.com)... 142.251.171.207, 173.194.206.207, 142.251.120.207, ...\n",
            "Connecting to storage.googleapis.com (storage.googleapis.com)|142.251.171.207|:443... connected.\n",
            "HTTP request sent, awaiting response... 200 OK\n",
            "Length: 68606236 (65M) [application/zip]\n",
            "Saving to: ‘/tmp/cats_and_dogs_filtered.zip’\n",
            "\n",
            "/tmp/cats_and_dogs_ 100%[===================>]  65.43M   183MB/s    in 0.4s    \n",
            "\n",
            "2024-03-06 15:00:48 (183 MB/s) - ‘/tmp/cats_and_dogs_filtered.zip’ saved [68606236/68606236]\n",
            "\n"
          ]
        }
      ]
    },
    {
      "cell_type": "code",
      "source": [
        "import sys\n",
        "from matplotlib import pyplot\n",
        "from keras.applications.vgg16 import VGG16\n",
        "from keras.models import Model\n",
        "from keras.layers import Dense, Flatten\n",
        "from keras.optimizers import SGD\n",
        "from keras.preprocessing.image import ImageDataGenerator\n",
        "\n",
        "import os\n",
        "import zipfile\n"
      ],
      "metadata": {
        "id": "hTKi0IGbRx96"
      },
      "execution_count": 2,
      "outputs": []
    },
    {
      "cell_type": "code",
      "source": [
        "local_zip = '/tmp/cats_and_dogs_filtered.zip'\n",
        "zip_ref = zipfile.ZipFile(local_zip, 'r')\n",
        "zip_ref.extractall('/tmp')\n",
        "zip_ref.close()\n",
        "\n",
        "base_dir = '/tmp/cats_and_dogs_filtered'\n",
        "train_dir = os.path.join(base_dir, 'train')\n",
        "validation_dir = os.path.join(base_dir, 'validation')\n",
        "\n",
        "# Directory with our training cat pictures\n",
        "train_cats_dir = os.path.join(train_dir, 'cats')\n",
        "\n",
        "# Directory with our training dog pictures\n",
        "train_dogs_dir = os.path.join(train_dir, 'dogs')\n",
        "\n",
        "# Directory with our validation cat pictures\n",
        "validation_cats_dir = os.path.join(validation_dir, 'cats')\n",
        "\n",
        "# Directory with our validation dog pictures\n",
        "validation_dogs_dir = os.path.join(validation_dir, 'dogs')"
      ],
      "metadata": {
        "id": "ysa02EOURd62"
      },
      "execution_count": 3,
      "outputs": []
    },
    {
      "cell_type": "code",
      "source": [
        "# Define CNN model with transfer learning\n",
        "def define_model():\n",
        "    # Load the VGG16 model with pre-trained weights on ImageNet\n",
        "    model = VGG16(include_top=False, input_shape=(224, 224, 3))\n",
        "\n",
        "    # Mark loaded layers as not trainable\n",
        "    for layer in model.layers:\n",
        "        layer.trainable = False\n",
        "\n",
        "    # Add new classifier layers\n",
        "    flat1 = Flatten()(model.layers[-1].output)\n",
        "    class1 = Dense(128, activation='relu', kernel_initializer='he_uniform')(flat1)\n",
        "    output = Dense(1, activation='sigmoid')(class1)\n",
        "\n",
        "    # Define the new model\n",
        "    model = Model(inputs=model.inputs, outputs=output)\n",
        "\n",
        "    # Compile the model\n",
        "    opt = SGD(learning_rate=0.001, momentum=0.9)  # Updated for the warning\n",
        "    model.compile(optimizer=opt, loss='binary_crossentropy', metrics=['accuracy'])\n",
        "\n",
        "    return model"
      ],
      "metadata": {
        "id": "t8tTCqNpReBV"
      },
      "execution_count": 4,
      "outputs": []
    },
    {
      "cell_type": "code",
      "source": [
        "# Plot diagnostic learning curves\n",
        "def summarize_diagnostics(history):\n",
        "    # Plot loss\n",
        "    pyplot.subplot(211)\n",
        "    pyplot.title('Cross Entropy Loss')\n",
        "    pyplot.plot(history.history['loss'], color='blue', label='train')\n",
        "    pyplot.plot(history.history['val_loss'], color='orange', label='test')\n",
        "\n",
        "    # Plot accuracy\n",
        "    pyplot.subplot(212)\n",
        "    pyplot.title('Classification Accuracy')\n",
        "    pyplot.plot(history.history['accuracy'], color='blue', label='train')\n",
        "    pyplot.plot(history.history['val_accuracy'], color='orange', label='test')\n",
        "\n",
        "    # Save plot to file\n",
        "    filename = sys.argv[0].split('/')[-1]\n",
        "    pyplot.savefig(filename + '_plot.png')\n",
        "    pyplot.close()"
      ],
      "metadata": {
        "id": "YtFjom80ReGB"
      },
      "execution_count": 5,
      "outputs": []
    },
    {
      "cell_type": "code",
      "source": [
        "# Run the test harness for evaluating the model\n",
        "def run_test_harness():\n",
        "    # Define the model\n",
        "    model = define_model()\n",
        "\n",
        "    # Create data generator\n",
        "    datagen = ImageDataGenerator(featurewise_center=True)\n",
        "\n",
        "    # Specify ImageNet mean values for centering\n",
        "    datagen.mean = [123.68, 116.779, 103.939]\n",
        "\n",
        "    # Prepare iterators\n",
        "    train_it = datagen.flow_from_directory(train_dir,\n",
        "                                           class_mode='binary', batch_size=64, target_size=(224, 224))\n",
        "    test_it = datagen.flow_from_directory(validation_dir,\n",
        "                                          class_mode='binary', batch_size=64, target_size=(224, 224))\n",
        "\n",
        "    # Fit the model\n",
        "    history = model.fit_generator(train_it, steps_per_epoch=len(train_it),\n",
        "                                  validation_data=test_it, validation_steps=len(test_it), epochs=10, verbose=1)\n",
        "\n",
        "    # Evaluate the model and test\n",
        "    _, acc = model.evaluate_generator(test_it, steps=len(test_it), verbose=0)\n",
        "    print('> Accuracy: %.3f' % (acc * 100.0))\n",
        "\n",
        "    # Plot learning curves\n",
        "    summarize_diagnostics(history)"
      ],
      "metadata": {
        "id": "xHDF6fyKRFsm"
      },
      "execution_count": 6,
      "outputs": []
    },
    {
      "cell_type": "code",
      "source": [
        "# Entry point, run the test harness\n",
        "run_test_harness()"
      ],
      "metadata": {
        "colab": {
          "base_uri": "https://localhost:8080/"
        },
        "id": "gt7LkU6IR5ZK",
        "outputId": "652b9c78-284c-46d0-c8f8-04a02fff46ac"
      },
      "execution_count": 7,
      "outputs": [
        {
          "metadata": {
            "tags": null
          },
          "name": "stdout",
          "output_type": "stream",
          "text": [
            "Downloading data from https://storage.googleapis.com/tensorflow/keras-applications/vgg16/vgg16_weights_tf_dim_ordering_tf_kernels_notop.h5\n",
            "58889256/58889256 [==============================] - 1s 0us/step\n",
            "Found 2000 images belonging to 2 classes.\n",
            "Found 1000 images belonging to 2 classes.\n"
          ]
        },
        {
          "metadata": {
            "tags": null
          },
          "name": "stderr",
          "output_type": "stream",
          "text": [
            "<ipython-input-6-baac1a537cb2>:19: UserWarning: `Model.fit_generator` is deprecated and will be removed in a future version. Please use `Model.fit`, which supports generators.\n",
            "  history = model.fit_generator(train_it, steps_per_epoch=len(train_it),\n"
          ]
        },
        {
          "output_type": "stream",
          "name": "stdout",
          "text": [
            "Epoch 1/10\n",
            "32/32 [==============================] - 1839s 58s/step - loss: 1.3890 - accuracy: 0.9100 - val_loss: 0.2130 - val_accuracy: 0.9660\n",
            "Epoch 2/10\n",
            "32/32 [==============================] - 1757s 55s/step - loss: 0.0526 - accuracy: 0.9865 - val_loss: 0.1328 - val_accuracy: 0.9700\n",
            "Epoch 3/10\n",
            "32/32 [==============================] - 1812s 57s/step - loss: 0.0094 - accuracy: 0.9975 - val_loss: 0.1345 - val_accuracy: 0.9690\n",
            "Epoch 4/10\n",
            "32/32 [==============================] - 1765s 56s/step - loss: 0.0037 - accuracy: 0.9995 - val_loss: 0.1388 - val_accuracy: 0.9700\n",
            "Epoch 5/10\n",
            "32/32 [==============================] - 1806s 57s/step - loss: 0.0019 - accuracy: 1.0000 - val_loss: 0.1404 - val_accuracy: 0.9680\n",
            "Epoch 6/10\n",
            "32/32 [==============================] - 1782s 56s/step - loss: 0.0014 - accuracy: 1.0000 - val_loss: 0.1421 - val_accuracy: 0.9690\n",
            "Epoch 7/10\n",
            "32/32 [==============================] - 1735s 55s/step - loss: 0.0010 - accuracy: 1.0000 - val_loss: 0.1446 - val_accuracy: 0.9680\n",
            "Epoch 8/10\n",
            "32/32 [==============================] - 1777s 56s/step - loss: 8.0385e-04 - accuracy: 1.0000 - val_loss: 0.1462 - val_accuracy: 0.9680\n",
            "Epoch 9/10\n",
            "32/32 [==============================] - 1777s 57s/step - loss: 6.6849e-04 - accuracy: 1.0000 - val_loss: 0.1472 - val_accuracy: 0.9690\n",
            "Epoch 10/10\n",
            "32/32 [==============================] - 1778s 56s/step - loss: 5.7342e-04 - accuracy: 1.0000 - val_loss: 0.1485 - val_accuracy: 0.9690\n"
          ]
        },
        {
          "output_type": "stream",
          "name": "stderr",
          "text": [
            "<ipython-input-6-baac1a537cb2>:23: UserWarning: `Model.evaluate_generator` is deprecated and will be removed in a future version. Please use `Model.evaluate`, which supports generators.\n",
            "  _, acc = model.evaluate_generator(test_it, steps=len(test_it), verbose=0)\n"
          ]
        },
        {
          "output_type": "stream",
          "name": "stdout",
          "text": [
            "> Accuracy: 96.900\n"
          ]
        }
      ]
    }
  ]
}