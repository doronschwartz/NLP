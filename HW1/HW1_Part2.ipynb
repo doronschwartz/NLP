{
  "nbformat": 4,
  "nbformat_minor": 0,
  "metadata": {
    "colab": {
      "provenance": [],
      "authorship_tag": "ABX9TyOpduiNMTpR3/mlsS3FBvsa",
      "include_colab_link": true
    },
    "kernelspec": {
      "name": "python3",
      "display_name": "Python 3"
    },
    "language_info": {
      "name": "python"
    }
  },
  "cells": [
    {
      "cell_type": "markdown",
      "metadata": {
        "id": "view-in-github",
        "colab_type": "text"
      },
      "source": [
        "<a href=\"https://colab.research.google.com/github/doronschwartz/NLP/blob/main/HW1/HW1_Part2.ipynb\" target=\"_parent\"><img src=\"https://colab.research.google.com/assets/colab-badge.svg\" alt=\"Open In Colab\"/></a>"
      ]
    },
    {
      "cell_type": "code",
      "execution_count": 4,
      "metadata": {
        "id": "f4M2g3SotznJ"
      },
      "outputs": [],
      "source": [
        "import numpy as np\n",
        "import nltk\n",
        "import pandas as pd\n",
        "from nltk.stem import WordNetLemmatizer\n",
        "from sklearn.feature_extraction.text import CountVectorizer\n",
        "from wordcloud import WordCloud\n",
        "import matplotlib.pyplot as plt\n",
        "file_path = 'https://github.com/rosenfa/ai/blob/master/news-israel.xlsx?raw=true'\n",
        "israel = pd.read_excel(file_path)"
      ]
    },
    {
      "cell_type": "code",
      "source": [
        "import numpy as np\n",
        "from sklearn.feature_extraction.text import CountVectorizer\n",
        "from wordcloud import WordCloud\n",
        "import matplotlib.pyplot as plt\n",
        "file_path = 'https://github.com/rosenfa/ai/blob/master/news-pal.xlsx?raw=true'\n",
        "pal = pd.read_excel(file_path)"
      ],
      "metadata": {
        "id": "9HxNPLDbt4s4"
      },
      "execution_count": 5,
      "outputs": []
    },
    {
      "cell_type": "markdown",
      "source": [
        "Convert to Lower Case, so all the words of same spelling but different case are one"
      ],
      "metadata": {
        "id": "WpbS-mR4t7dq"
      }
    },
    {
      "cell_type": "code",
      "source": [
        "israel_lower = israel.applymap(lambda x: x.lower() if isinstance(x, str) else x)"
      ],
      "metadata": {
        "id": "Y0AeVi8lt6r6"
      },
      "execution_count": 6,
      "outputs": []
    },
    {
      "cell_type": "code",
      "source": [
        "pal_lower = pal.applymap(lambda x: x.lower() if isinstance(x, str) else x)"
      ],
      "metadata": {
        "id": "WW0a_jYuv6p2"
      },
      "execution_count": 7,
      "outputs": []
    },
    {
      "cell_type": "markdown",
      "source": [
        "# MI"
      ],
      "metadata": {
        "id": "vapokb426TkE"
      }
    },
    {
      "cell_type": "markdown",
      "source": [
        "Finding words with high information gain, Where the data is vectorized, and then labeled from where it came from.\n",
        "\n",
        "Using the built-in add, we are able to pull the MI and sort it nicely with the top ten."
      ],
      "metadata": {
        "id": "AsilzECdxXp2"
      }
    },
    {
      "cell_type": "code",
      "source": [
        "from sklearn.feature_selection import mutual_info_classif\n",
        "\n",
        "# Assign labels to each DataFrame\n",
        "pal_lower['Label'] = 'Palestine'\n",
        "israel_lower['Label'] = 'Israel'\n",
        "\n",
        "# Concatenate the 'Content' columns and labels\n",
        "all_text = pd.concat([pal_lower[['Content', 'Label']], israel_lower[['Content', 'Label']]])\n",
        "\n",
        "# Use CountVectorizer to preprocess the text\n",
        "vectorizer = CountVectorizer(stop_words='english')\n",
        "X = vectorizer.fit_transform(all_text['Content'])\n",
        "\n",
        "# Calculate mutual information for each word with respect to the labels\n",
        "mutual_info = mutual_info_classif(X, all_text['Label'])\n",
        "\n",
        "# Create a DataFrame with words and their corresponding mutual information scores\n",
        "mi_df = pd.DataFrame({'Word': vectorizer.get_feature_names_out(), 'Mutual_Information': mutual_info})\n",
        "\n",
        "# Sort the DataFrame by mutual information scores in descending order\n",
        "mi_df = mi_df.sort_values(by='Mutual_Information', ascending=False)\n",
        "\n",
        "# Display the top words with high mutual information\n",
        "print(mi_df.head(10))\n",
        "\n"
      ],
      "metadata": {
        "colab": {
          "base_uri": "https://localhost:8080/"
        },
        "id": "aEEM-ZGHx5WH",
        "outputId": "fe0755f3-4268-4c90-99c7-7385ea4ec754"
      },
      "execution_count": 9,
      "outputs": [
        {
          "output_type": "stream",
          "name": "stdout",
          "text": [
            "          Word  Mutual_Information\n",
            "1817     hamas            0.100200\n",
            "1697      gaza            0.096023\n",
            "3166      read            0.067261\n",
            "2159   israeli            0.066367\n",
            "268        aje            0.064748\n",
            "2134        io            0.064748\n",
            "1954  hostages            0.048324\n",
            "1952   hostage            0.042707\n",
            "1967      http            0.042573\n",
            "1078      deal            0.040385\n"
          ]
        }
      ]
    },
    {
      "cell_type": "markdown",
      "source": [
        "Seeing these pass the logical test, it makes sense words like Hamas, and hostages can identify Israel, with hostage and ceasefire deal also providing higher MI."
      ],
      "metadata": {
        "id": "8P35Mzad6ptC"
      }
    },
    {
      "cell_type": "markdown",
      "source": [
        "# PMI between the words: Unsurpersived"
      ],
      "metadata": {
        "id": "kPQT5cDF13t6"
      }
    },
    {
      "cell_type": "markdown",
      "source": [
        "With PMI, as it is unsupervised, we bring in the data again, unsupervised so it needs to be done independetly.\n",
        "\n",
        "We will set a doc min to 30, and use the built in function to pull the Bigrams to provide the respect PMI"
      ],
      "metadata": {
        "id": "wdXY4Z4Y7CSZ"
      }
    },
    {
      "cell_type": "code",
      "source": [
        "from nltk.tokenize import word_tokenize\n",
        "from sklearn.feature_extraction.text import CountVectorizer\n",
        "from nltk import collocations\n",
        "nltk.download('punkt')"
      ],
      "metadata": {
        "colab": {
          "base_uri": "https://localhost:8080/"
        },
        "id": "XOtrYY_D_5MH",
        "outputId": "c92d3e50-b59a-4599-9ca7-1ad092a64fa2"
      },
      "execution_count": 10,
      "outputs": [
        {
          "output_type": "stream",
          "name": "stderr",
          "text": [
            "[nltk_data] Downloading package punkt to /root/nltk_data...\n",
            "[nltk_data]   Unzipping tokenizers/punkt.zip.\n"
          ]
        },
        {
          "output_type": "execute_result",
          "data": {
            "text/plain": [
              "True"
            ]
          },
          "metadata": {},
          "execution_count": 10
        }
      ]
    },
    {
      "cell_type": "code",
      "source": [
        "import pandas as pd\n",
        "from nltk.tokenize import word_tokenize\n",
        "from sklearn.feature_extraction.text import CountVectorizer\n",
        "from nltk import collocations\n",
        "from nltk.corpus import stopwords\n",
        "nltk.download('stopwords')\n",
        "\n",
        "\n",
        "stop_words = set(stopwords.words('english'))\n",
        "\n",
        "# Function to perform tokenization and analysis\n",
        "def analyze_dataframe(df):\n",
        "    # Convert text to lowercase\n",
        "    df_lower = df.applymap(lambda x: x.lower() if isinstance(x, str) else x)\n",
        "\n",
        "    # Extract the \"Content\" column for tokenization\n",
        "    content_column = df_lower['Content']\n",
        "\n",
        "    # Combine all text\n",
        "    all_text = ' '.join(content_column.dropna())\n",
        "\n",
        "    # Tokenize the text into words\n",
        "    tokenized_documents = [\n",
        "        [word for word in word_tokenize(doc) if word.isalnum() and word not in stop_words]\n",
        "        for doc in content_column.dropna()\n",
        "    ]\n",
        "\n",
        "    # Use CountVectorizer to create a document-term matrix\n",
        "    vectorizer = CountVectorizer(tokenizer=lambda x: x, lowercase=False)\n",
        "    dtm = vectorizer.fit_transform(tokenized_documents)\n",
        "\n",
        "    # Get feature names (words)\n",
        "    feature_names = vectorizer.get_feature_names_out()\n",
        "\n",
        "    # Use NLTK's BigramCollocationFinder to find bigrams\n",
        "    bigram_measures = collocations.BigramAssocMeasures()\n",
        "    finder = collocations.BigramCollocationFinder.from_documents(tokenized_documents)\n",
        "\n",
        "    # Calculate PMI for each bigram\n",
        "    pmi_scores = {bigram: pmi for bigram, pmi in finder.score_ngrams(bigram_measures.pmi)}\n",
        "\n",
        "    # Count document frequency of each bigram\n",
        "    doc_freq = dtm.sum(axis=0)\n",
        "\n",
        "    # Filter bigrams based on the specified document frequency threshold\n",
        "    min_doc_freq = 30\n",
        "    filtered_pmi_scores = {bigram: pmi for bigram, pmi in pmi_scores.items() if\n",
        "                           doc_freq[0, vectorizer.vocabulary_[bigram[0]]] >= min_doc_freq and\n",
        "                           doc_freq[0, vectorizer.vocabulary_[bigram[1]]] >= min_doc_freq}\n",
        "\n",
        "    # Sort the filtered bigrams by PMI in descending order\n",
        "    sorted_filtered_pmi_scores = sorted(filtered_pmi_scores.items(), key=lambda x: x[1], reverse=True)\n",
        "\n",
        "    # Display the top N bigrams with the highest PMI and at least 30 documents\n",
        "    top_n = 10\n",
        "    for bigram, pmi in sorted_filtered_pmi_scores[:top_n]:\n",
        "        print(f'Bigram: {bigram}, PMI: {pmi}, Document Frequency: {doc_freq[0, vectorizer.vocabulary_[bigram[0]]]}')\n",
        "\n",
        "# Load dataframes\n",
        "file_path_pal = 'https://github.com/rosenfa/ai/blob/master/news-pal.xlsx?raw=true'\n",
        "pal = pd.read_excel(file_path_pal)\n",
        "\n",
        "file_path_israel = 'https://github.com/rosenfa/ai/blob/master/news-israel.xlsx?raw=true'\n",
        "israel = pd.read_excel(file_path_israel)\n",
        "\n",
        "# Analyze each dataframe separately\n",
        "print(\"Analysis for Pal:\")\n",
        "analyze_dataframe(pal)\n",
        "\n",
        "print(\"\\nAnalysis for Israel:\")\n",
        "analyze_dataframe(israel)\n"
      ],
      "metadata": {
        "colab": {
          "base_uri": "https://localhost:8080/"
        },
        "id": "H_eTuvo6BVxI",
        "outputId": "d1937673-bed5-4230-85e0-20f7eb2892dc"
      },
      "execution_count": 11,
      "outputs": [
        {
          "output_type": "stream",
          "name": "stderr",
          "text": [
            "[nltk_data] Downloading package stopwords to /root/nltk_data...\n",
            "[nltk_data]   Unzipping corpora/stopwords.zip.\n"
          ]
        },
        {
          "output_type": "stream",
          "name": "stdout",
          "text": [
            "Analysis for Pal:\n",
            "Bigram: ('occupation', 'forces'), PMI: 5.906890595608518, Document Frequency: 33\n",
            "Bigram: ('genocide', 'gazagenocide'), PMI: 5.576772103067524, Document Frequency: 37\n",
            "Bigram: ('gaza', 'strip'), PMI: 4.364028841380403, Document Frequency: 339\n",
            "Bigram: ('israeli', 'forces'), PMI: 4.034125783904626, Document Frequency: 282\n",
            "Bigram: ('israeli', 'occupation'), PMI: 3.963736456013228, Document Frequency: 282\n",
            "Bigram: ('strip', 'http'), PMI: 3.937687111566248, Document Frequency: 52\n",
            "Bigram: ('israeli', 'genocide'), PMI: 3.936180733492666, Document Frequency: 282\n",
            "Bigram: ('israeli', 'bombardment'), PMI: 3.913612976587393, Document Frequency: 282\n",
            "Bigram: ('palestinian', 'people'), PMI: 3.626081488046749, Document Frequency: 98\n",
            "Bigram: ('palestinians', 'killed'), PMI: 3.5106042706268124, Document Frequency: 52\n",
            "\n",
            "Analysis for Israel:\n"
          ]
        },
        {
          "output_type": "stream",
          "name": "stderr",
          "text": [
            "/usr/local/lib/python3.10/dist-packages/sklearn/feature_extraction/text.py:528: UserWarning: The parameter 'token_pattern' will not be used since 'tokenizer' is not None'\n",
            "  warnings.warn(\n"
          ]
        },
        {
          "output_type": "stream",
          "name": "stdout",
          "text": [
            "Bigram: ('october', '7'), PMI: 6.924438796819366, Document Frequency: 52\n",
            "Bigram: ('hostage', 'deal'), PMI: 6.18033113340914, Document Frequency: 55\n",
            "Bigram: ('hostage', 'release'), PMI: 4.981022325185732, Document Frequency: 55\n",
            "Bigram: ('netanyahu', 'said'), PMI: 4.920031695296585, Document Frequency: 34\n",
            "Bigram: ('release', 'hostages'), PMI: 4.422532035825769, Document Frequency: 40\n",
            "Bigram: ('deal', 'via'), PMI: 4.422532035825768, Document Frequency: 60\n",
            "Bigram: ('deal', 'release'), PMI: 3.270528942380718, Document Frequency: 60\n",
            "Bigram: ('deal', 'read'), PMI: 3.2526070343834554, Document Frequency: 60\n",
            "Bigram: ('war', 'read'), PMI: 3.1822177064920574, Document Frequency: 63\n",
            "Bigram: ('said', 'monday'), PMI: 3.100603940938406, Document Frequency: 30\n"
          ]
        }
      ]
    },
    {
      "cell_type": "markdown",
      "source": [
        "Reviewing the above, the pal ones seem to be common palestenian phrases, with strip and http a bit awkward.\n",
        "\n",
        "For Israel, much of the hostage discussion reveals itself. Clearly, many declarations were made on monday, with said and monday revealing to be significant.\n",
        "\n"
      ],
      "metadata": {
        "id": "osyo4mr97_LY"
      }
    },
    {
      "cell_type": "markdown",
      "source": [
        "# Bayes"
      ],
      "metadata": {
        "id": "MdsyUZ8K68D-"
      }
    },
    {
      "cell_type": "markdown",
      "source": [
        "The below code simply counts the phrases and gives the combined bayes factor. uses smoothing also."
      ],
      "metadata": {
        "id": "vjNrKnMO8dJB"
      }
    },
    {
      "cell_type": "code",
      "source": [
        "file_path_pal = 'https://github.com/rosenfa/ai/blob/master/news-pal.xlsx?raw=true'\n",
        "pal = pd.read_excel(file_path_pal)\n",
        "\n",
        "file_path_israel = 'https://github.com/rosenfa/ai/blob/master/news-israel.xlsx?raw=true'\n",
        "israel = pd.read_excel(file_path_israel)\n",
        "\n",
        "pal_lower = pal.applymap(lambda x: x.lower() if isinstance(x, str) else x)\n",
        "\n",
        "israel_lower = israel.applymap(lambda x: x.lower() if isinstance(x, str) else x)"
      ],
      "metadata": {
        "id": "d9xp5hjRDpjS"
      },
      "execution_count": 12,
      "outputs": []
    },
    {
      "cell_type": "code",
      "source": [
        "from collections import Counter\n",
        "import re\n",
        "\n",
        "def compute_bayes_factor(word_counts1, word_counts2):\n",
        "    \"\"\"\n",
        "    Compute Bayes Factor for each word.\n",
        "    \"\"\"\n",
        "    return {word: (count1 + 1) / (word_counts2.get(word, 0) + 1) for word, count1 in word_counts1.items()}\n",
        "\n",
        "def get_word_counts(df, min_occurrences=20):\n",
        "    \"\"\"\n",
        "    Count occurrences of each word in the dataframe, filtering out words that occur less than min_occurrences times.\n",
        "    Remove non-alphabet characters except for hashtags.\n",
        "    \"\"\"\n",
        "    word_counts = Counter()\n",
        "    pattern = re.compile(r'\\b(?:\\w+\\#|\\w+)\\b')\n",
        "    word_counts.update(word for content in df['Content'] for word in pattern.findall(content))\n",
        "\n",
        "    # Filter out words that occur less than min_occurrences times\n",
        "    return {word: count for word, count in word_counts.items() if count >= min_occurrences}\n",
        "\n",
        "\n",
        "# Get word counts for each dataframe\n",
        "word_counts_israel = get_word_counts(israel_lower)\n",
        "word_counts_pal = get_word_counts(pal_lower)\n",
        "\n",
        "# Compute Bayes Factor for each word\n",
        "bayes_factors = compute_bayes_factor(word_counts_israel, word_counts_pal)\n",
        "\n",
        "# Sort words by Bayes Factor\n",
        "sorted_words = sorted(bayes_factors.items(), key=lambda x: x[1], reverse=True)\n",
        "\n",
        "# Display results\n",
        "for word, bf in sorted_words[:20]:\n",
        "    print(f\"Word: {word}, Bayes Factor: {bf}\")\n"
      ],
      "metadata": {
        "colab": {
          "base_uri": "https://localhost:8080/"
        },
        "id": "4lO_Hge0DiTv",
        "outputId": "0d12b22b-87a9-439a-fe60-5297e62a45c7"
      },
      "execution_count": 13,
      "outputs": [
        {
          "output_type": "stream",
          "name": "stdout",
          "text": [
            "Word: hostages, Bayes Factor: 88.0\n",
            "Word: read, Bayes Factor: 87.0\n",
            "Word: idf, Bayes Factor: 85.0\n",
            "Word: deal, Bayes Factor: 84.0\n",
            "Word: 7, Bayes Factor: 77.0\n",
            "Word: hostage, Bayes Factor: 77.0\n",
            "Word: october, Bayes Factor: 57.0\n",
            "Word: be, Bayes Factor: 57.0\n",
            "Word: release, Bayes Factor: 51.0\n",
            "Word: via, Bayes Factor: 43.0\n",
            "Word: netanyahu, Bayes Factor: 41.0\n",
            "Word: said, Bayes Factor: 39.0\n",
            "Word: opinion, Bayes Factor: 36.0\n",
            "Word: more, Bayes Factor: 34.0\n",
            "Word: minister, Bayes Factor: 32.0\n",
            "Word: monday, Bayes Factor: 32.0\n",
            "Word: against, Bayes Factor: 31.0\n",
            "Word: but, Bayes Factor: 30.0\n",
            "Word: held, Bayes Factor: 30.0\n",
            "Word: tuesday, Bayes Factor: 26.0\n"
          ]
        }
      ]
    },
    {
      "cell_type": "markdown",
      "source": [
        "As we can hostages and 7 all have high Bayes factor, not many Pal words on the top here."
      ],
      "metadata": {
        "id": "xaKels8Z8nRe"
      }
    },
    {
      "cell_type": "markdown",
      "source": [
        "# Filtering"
      ],
      "metadata": {
        "id": "rzrmna17Hsri"
      }
    },
    {
      "cell_type": "markdown",
      "source": [
        "Taking a look at filtering some of the above functions and words a bit better with more stringent rules of what will be considered."
      ],
      "metadata": {
        "id": "wJr0nSmr8u3b"
      }
    },
    {
      "cell_type": "code",
      "source": [
        "file_path_pal = 'https://github.com/rosenfa/ai/blob/master/news-pal.xlsx?raw=true'\n",
        "pal = pd.read_excel(file_path_pal)\n",
        "\n",
        "file_path_israel = 'https://github.com/rosenfa/ai/blob/master/news-israel.xlsx?raw=true'\n",
        "israel = pd.read_excel(file_path_israel)\n",
        "\n",
        "pal_lower = pal.applymap(lambda x: x.lower() if isinstance(x, str) else x)\n",
        "\n",
        "israel_lower = israel.applymap(lambda x: x.lower() if isinstance(x, str) else x)"
      ],
      "metadata": {
        "id": "J_PxMJzqJEjE"
      },
      "execution_count": 14,
      "outputs": []
    },
    {
      "cell_type": "markdown",
      "source": [
        "Below, we take out stop words, and porter stemmer and lemmatize the words, along with the originals.\n",
        "\n",
        "With a MI and count document, we see worse and less intelligble results from the first MI. So this approach isnt great, which leads us to chi filtering after."
      ],
      "metadata": {
        "id": "Q2CDLoOS8-Oi"
      }
    },
    {
      "cell_type": "code",
      "source": [
        "import re\n",
        "from collections import Counter\n",
        "from sklearn.feature_extraction.text import CountVectorizer\n",
        "from sklearn.feature_selection import mutual_info_classif\n",
        "import pandas as pd\n",
        "from nltk.corpus import stopwords\n",
        "from nltk.stem import PorterStemmer, WordNetLemmatizer\n",
        "from nltk.tokenize import word_tokenize\n",
        "nltk.download('wordnet')\n",
        "\n",
        "# Assign labels to each DataFrame\n",
        "pal_lower['Label'] = 'Palestine'\n",
        "israel_lower['Label'] = 'Israel'\n",
        "\n",
        "# Combine both DataFrames\n",
        "combined_df = pd.concat([israel_lower, pal_lower], ignore_index=True)\n",
        "\n",
        "def preprocess_text(text):\n",
        "    # Perform necessary preprocessing, e.g., lowercasing, stop word removal, stemming, etc.\n",
        "    stop_words = set(stopwords.words('english'))\n",
        "    ps = PorterStemmer()\n",
        "    lemmatizer = WordNetLemmatizer()\n",
        "\n",
        "    words = re.findall(r'\\b(?:\\w+\\#|\\w+)\\b', text.lower())  # Extract words and hashtags\n",
        "    words = [word for word in words if word not in stop_words]  # Remove stop words\n",
        "\n",
        "    # Include both stemmed and lemmatized versions along with the original words\n",
        "    stemmed_words = [ps.stem(word) for word in words]  # Stemming\n",
        "    lemmatized_words = [lemmatizer.lemmatize(word) for word in words]  # Lemmatization\n",
        "\n",
        "    return words + stemmed_words + lemmatized_words\n",
        "\n",
        "# Tokenize and preprocess the content\n",
        "combined_df['Processed_Content'] = combined_df['Content'].apply(preprocess_text)\n",
        "\n",
        "# Count the occurrences of each word in the processed content\n",
        "word_counts = Counter(word for words in combined_df['Processed_Content'] for word in words)\n",
        "\n",
        "# Calculate Mutual Information\n",
        "vectorizer = CountVectorizer(tokenizer=lambda x: x, lowercase=False)\n",
        "X = vectorizer.fit_transform(combined_df['Processed_Content'])\n",
        "mi_scores = mutual_info_classif(X, combined_df['Label'], discrete_features=True)\n",
        "\n",
        "# Combine word counts and MI scores into a DataFrame\n",
        "word_info_df = pd.DataFrame({'Word': list(word_counts.keys()), 'Count': list(word_counts.values()), 'MI_Score': mi_scores})\n",
        "\n",
        "# Define thresholds or criteria for filtering\n",
        "mi_threshold = 0.001  # Example threshold for MI score\n",
        "count_threshold = 20 # Example threshold for word count\n",
        "\n",
        "# Apply filtering based on criteria\n",
        "filtered_words = word_info_df[(word_info_df['MI_Score'] > mi_threshold) & (word_info_df['Count'] > count_threshold)]\n",
        "\n",
        "# Display results\n",
        "print(\"Words filtered based on MI and Count:\")\n",
        "print(filtered_words)\n"
      ],
      "metadata": {
        "colab": {
          "base_uri": "https://localhost:8080/"
        },
        "id": "u6d7BUOQKvBV",
        "outputId": "1293a15b-328b-4a2d-b781-68ca510d67ed"
      },
      "execution_count": 15,
      "outputs": [
        {
          "output_type": "stream",
          "name": "stderr",
          "text": [
            "[nltk_data] Downloading package wordnet to /root/nltk_data...\n",
            "/usr/local/lib/python3.10/dist-packages/sklearn/feature_extraction/text.py:528: UserWarning: The parameter 'token_pattern' will not be used since 'tokenizer' is not None'\n",
            "  warnings.warn(\n"
          ]
        },
        {
          "output_type": "stream",
          "name": "stdout",
          "text": [
            "Words filtered based on MI and Count:\n",
            "          Word  Count  MI_Score\n",
            "5          tel     33  0.001523\n",
            "6         aviv     33  0.003662\n",
            "7         last     88  0.001461\n",
            "8         week     46  0.001461\n",
            "11       hamas    537  0.002194\n",
            "...        ...    ...       ...\n",
            "4141      food     21  0.003089\n",
            "4197       son     23  0.003662\n",
            "4250  coverage     26  0.001461\n",
            "4292       abu     33  0.002927\n",
            "4570      tank     21  0.006612\n",
            "\n",
            "[155 rows x 3 columns]\n"
          ]
        }
      ]
    },
    {
      "cell_type": "markdown",
      "source": [
        "Chi Filtering"
      ],
      "metadata": {
        "id": "dvtjRabIxXh4"
      }
    },
    {
      "cell_type": "markdown",
      "source": [
        "Taking the Chi2 distrubtion and applying to the words to get a sembelance of the distrubtion and see which words/phrases prove significant. Limited preprocessing applied"
      ],
      "metadata": {
        "id": "Bb1ZIHYK9V6n"
      }
    },
    {
      "cell_type": "code",
      "source": [
        "import pandas as pd\n",
        "from sklearn.feature_extraction.text import CountVectorizer\n",
        "from sklearn.feature_selection import chi2\n",
        "from nltk.tokenize import word_tokenize  # Make sure to import this if not already done\n",
        "\n",
        "# Apply lowercase and tokenization to 'Content' column\n",
        "israel_lower['Content'] = israel_lower['Content'].apply(lambda x: ' '.join(word_tokenize(x.lower())))\n",
        "pal_lower['Content'] = pal_lower['Content'].apply(lambda x: ' '.join(word_tokenize(x.lower())))\n",
        "\n",
        "# Concatenate dataframes\n",
        "df = pd.concat([israel_lower, pal_lower], ignore_index=True)\n",
        "\n",
        "# Vectorize the 'Content' col'umn\n",
        "vectorizer = CountVectorizer(stop_words='english')\n",
        "X = vectorizer.fit_transform(df['Content'])\n",
        "\n",
        "# Calculate chi-squared statistics\n",
        "chi2_stat, features = chi2(X, df['Label'])\n",
        "\n",
        "# Create a DataFrame with features and chi2 statistics\n",
        "chi2_df = pd.DataFrame({'feature': vectorizer.get_feature_names_out(), 'chi2_stat': chi2_stat})\n",
        "\n",
        "# Get the top 40 features\n",
        "top20_features = chi2_df.nlargest(50, 'chi2_stat')\n",
        "\n",
        "# Print the top 40 features\n",
        "print(top20_features)\n"
      ],
      "metadata": {
        "colab": {
          "base_uri": "https://localhost:8080/"
        },
        "id": "cMZIT5_RxYPA",
        "outputId": "1d520c5c-1f64-481c-bd2a-a04b6ec42cdd"
      },
      "execution_count": 31,
      "outputs": [
        {
          "output_type": "stream",
          "name": "stdout",
          "text": [
            "           feature   chi2_stat\n",
            "1816         hamas  181.954887\n",
            "1953      hostages   87.000000\n",
            "3165          read   86.000000\n",
            "268            aje   83.000000\n",
            "2133            io   83.000000\n",
            "1951       hostage   76.000000\n",
            "1078          deal   74.418605\n",
            "271             al   73.923077\n",
            "1994           idf   70.123596\n",
            "2158       israeli   64.009756\n",
            "1966          http   63.202247\n",
            "1947      hospital   59.647059\n",
            "1696          gaza   49.207143\n",
            "3232       release   44.307692\n",
            "606    bombardment   41.000000\n",
            "631       breaking   39.185185\n",
            "2153        israel   38.494033\n",
            "1698  gazagenocide   37.000000\n",
            "2798       opinion   35.000000\n",
            "2753       october   32.060606\n",
            "1713      genocide   30.857143\n",
            "2747    occupation   30.117647\n",
            "2689     netanyahu   29.454545\n",
            "2586        monday   26.470588\n",
            "2058    indonesian   25.137931\n",
            "3209       refugee   24.142857\n",
            "697           camp   22.533333\n",
            "2186       jazeera   22.533333\n",
            "3975       tuesday   22.153846\n",
            "2135          iran   22.000000\n",
            "2749      occupied   22.000000\n",
            "3374          said   21.355556\n",
            "364           arab   21.160000\n",
            "560       besieged   21.000000\n",
            "3726         strip   20.512821\n",
            "265     airstrikes   20.000000\n",
            "2397          live   20.000000\n",
            "264      airstrike   19.592593\n",
            "3871    terrorists   19.592593\n",
            "1878          held   18.939394\n",
            "1963       houthis   18.181818\n",
            "2854     palestine   18.181818\n",
            "3755        sunday   18.000000\n",
            "2268        killed   17.515152\n",
            "788       children   16.516129\n",
            "2198        jewish   16.333333\n",
            "2855   palestinian   16.025641\n",
            "341   antisemitism   16.000000\n",
            "1645        forces   15.363636\n",
            "1897     hezbollah   15.210526\n"
          ]
        }
      ]
    },
    {
      "cell_type": "markdown",
      "source": [
        "The results speak for themselves, with hamas on the most. The results are mostly intelligible and are a quick way to show significance. Al is probably for Al Jazeera, though io is a bit of a mystery."
      ],
      "metadata": {
        "id": "cMoswACC9f1O"
      }
    },
    {
      "cell_type": "markdown",
      "source": [
        "# Classifiers"
      ],
      "metadata": {
        "id": "U-ayxj1_EiR6"
      }
    },
    {
      "cell_type": "markdown",
      "source": [
        "Below, we will take the labeled data and run a simple classification of Multinomial Naive Bayes with k-fold. Feature Selection is not done explicitly."
      ],
      "metadata": {
        "id": "u_6dBIgR9_rT"
      }
    },
    {
      "cell_type": "code",
      "source": [
        "import numpy as np\n",
        "import nltk\n",
        "import pandas as pd\n",
        "from sklearn.feature_extraction.text import CountVectorizer\n",
        "from sklearn.model_selection import cross_val_score, KFold\n",
        "from sklearn.naive_bayes import MultinomialNB\n",
        "from wordcloud import WordCloud\n",
        "import matplotlib.pyplot as plt\n",
        "\n",
        "# Load data for 'pal'\n",
        "file_path_pal = 'https://github.com/rosenfa/ai/blob/master/news-pal.xlsx?raw=true'\n",
        "pal = pd.read_excel(file_path_pal)\n",
        "\n",
        "# Load data for 'israel'\n",
        "file_path_israel = 'https://github.com/rosenfa/ai/blob/master/news-israel.xlsx?raw=true'\n",
        "israel = pd.read_excel(file_path_israel)\n",
        "\n",
        "# Convert the entire DataFrame to lowercase\n",
        "pal_lower = pal.applymap(lambda x: x.lower() if isinstance(x, str) else x)\n",
        "israel_lower = israel.applymap(lambda x: x.lower() if isinstance(x, str) else x)\n",
        "\n",
        "# Assign labels to the data\n",
        "pal_lower['label'] = 'Palestine'\n",
        "israel_lower['label'] = 'Israel'\n",
        "\n",
        "# Combine the dataframes\n",
        "combined_data = pd.concat([pal_lower, israel_lower], ignore_index=True)\n",
        "\n",
        "# Assuming you have a column named 'label'\n",
        "X = combined_data['Content']\n",
        "y = combined_data['label']\n",
        "\n",
        "# Create a CountVectorizer\n",
        "vectorizer = CountVectorizer()\n",
        "\n",
        "# Transform the data\n",
        "X_vec = vectorizer.fit_transform(X)\n",
        "\n",
        "# Train a Multinomial Naive Bayes classifier\n",
        "classifier = MultinomialNB()\n",
        "\n",
        "# Use 10-fold cross-validation\n",
        "kf = KFold(n_splits=10, shuffle=True, random_state=42)\n",
        "cross_val_results = cross_val_score(classifier, X_vec, y, cv=kf, scoring='accuracy')\n",
        "\n",
        "# Print the cross-validation results\n",
        "print(\"Cross-validation results:\")\n",
        "print(cross_val_results)\n",
        "print(f\"Mean Accuracy: {np.mean(cross_val_results)}\")\n"
      ],
      "metadata": {
        "id": "hH3HPNexGlTj",
        "outputId": "333af5f5-a75b-448c-adba-3626b5d5f9c4",
        "colab": {
          "base_uri": "https://localhost:8080/"
        }
      },
      "execution_count": 32,
      "outputs": [
        {
          "output_type": "stream",
          "name": "stdout",
          "text": [
            "Cross-validation results:\n",
            "[0.90526316 0.93684211 0.91578947 0.95789474 0.91578947 0.95789474\n",
            " 0.91578947 0.90526316 0.92631579 0.95789474]\n",
            "Mean Accuracy: 0.9294736842105262\n"
          ]
        }
      ]
    },
    {
      "cell_type": "markdown",
      "source": [
        "The above results are 93%, lets see if playing with Feature Selection below will improve our results."
      ],
      "metadata": {
        "id": "hCs2SDg6-gFk"
      }
    },
    {
      "cell_type": "markdown",
      "source": [
        "# Classifiers - Feature Selection"
      ],
      "metadata": {
        "id": "Ook5TCAj-0TE"
      }
    },
    {
      "cell_type": "markdown",
      "source": [
        "Below, we preprocess the data, and Train/Test split.\n",
        "\n",
        "Then for a range of Features, we take the Cross Validation numbers to see which gives us the best results.\n",
        "\n",
        "This time, we use the TFIDF vectorizer with Naive Bayes, and plot the results."
      ],
      "metadata": {
        "id": "r-zUqoKt-3p3"
      }
    },
    {
      "cell_type": "code",
      "source": [
        "import re\n",
        "from collections import Counter\n",
        "from sklearn.feature_extraction.text import CountVectorizer, TfidfVectorizer\n",
        "from sklearn.feature_selection import SelectKBest, mutual_info_classif\n",
        "from sklearn.model_selection import train_test_split\n",
        "from sklearn.naive_bayes import MultinomialNB\n",
        "from sklearn.metrics import accuracy_score\n",
        "import pandas as pd\n",
        "from nltk.corpus import stopwords\n",
        "from nltk.stem import PorterStemmer, WordNetLemmatizer\n",
        "from nltk.tokenize import word_tokenize\n",
        "\n",
        "# Assign labels to each DataFrame\n",
        "pal_lower['Label'] = 'Palestine'\n",
        "israel_lower['Label'] = 'Israel'\n",
        "\n",
        "# Combine both DataFrames\n",
        "combined_df = pd.concat([israel_lower, pal_lower], ignore_index=True)\n",
        "\n",
        "# Tokenize and preprocess the content\n",
        "stop_words = set(stopwords.words('english'))\n",
        "ps = PorterStemmer()\n",
        "lemmatizer = WordNetLemmatizer()\n",
        "\n",
        "def preprocess_text(text):\n",
        "    words = re.findall(r'\\b(?:\\w+\\#|\\w+)\\b', text.lower())  # Extract words and hashtags\n",
        "    words = [word for word in words if word not in stop_words]  # Remove stop words\n",
        "\n",
        "    # Include both stemmed and lemmatized versions along with the original words\n",
        "    stemmed_words = [ps.stem(word) for word in words]  # Stemming\n",
        "    lemmatized_words = [lemmatizer.lemmatize(word) for word in words]  # Lemmatization\n",
        "\n",
        "    return words + stemmed_words + lemmatized_words\n",
        "\n",
        "combined_df['Processed_Content'] = combined_df['Content'].apply(preprocess_text)\n",
        "\n",
        "# Split the data into training and testing sets\n",
        "X_train, X_test, y_train, y_test = train_test_split(\n",
        "    combined_df['Processed_Content'].apply(lambda x: ' '.join(x)),  # Convert list of words to space-separated string\n",
        "    combined_df['Label'],\n",
        "    test_size=0.2,\n",
        "    random_state=42\n",
        ")\n"
      ],
      "metadata": {
        "id": "caK8BqmMZpau"
      },
      "execution_count": 25,
      "outputs": []
    },
    {
      "cell_type": "code",
      "source": [
        "import warnings\n",
        "from sklearn.exceptions import DataConversionWarning\n",
        "warnings.filterwarnings(action='ignore', category=UserWarning)"
      ],
      "metadata": {
        "id": "9XtHYCQHX76o"
      },
      "execution_count": 26,
      "outputs": []
    },
    {
      "cell_type": "code",
      "source": [
        "# Function to train and evaluate the model with 10-fold cross-validation\n",
        "def train_and_evaluate_model(X, y, vectorizer, feature_selector, classifier):\n",
        "    # Vectorize the text\n",
        "    X_vec = vectorizer.fit_transform(X)\n",
        "\n",
        "    # Select features\n",
        "    X_selected = feature_selector.fit_transform(X_vec, y)\n",
        "\n",
        "    # Perform 10-fold cross-validation\n",
        "    cross_val_scores = cross_val_score(classifier, X_selected, y, cv=10, scoring='accuracy')\n",
        "\n",
        "    # Calculate the average cross-validation accuracy\n",
        "    avg_cross_val_accuracy = cross_val_scores.mean()\n",
        "\n",
        "    return avg_cross_val_accuracy\n",
        "\n",
        "# Define a range of feature values to experiment with\n",
        "feature_values = [100, 200, 500, 1000, 2000, 5000]\n",
        "\n",
        "# Initialize vectors for storing results\n",
        "avg_cross_val_accuracies = []\n",
        "\n",
        "# Create vectorizer, feature selector, and classifier outside the loop\n",
        "vectorizer = TfidfVectorizer()\n",
        "feature_selector = SelectKBest(mutual_info_classif)\n",
        "classifier = MultinomialNB()\n",
        "\n",
        "# Iterate over different feature values\n",
        "for num_features in feature_values:\n",
        "    # Set the desired number of features\n",
        "    feature_selector.set_params(k=num_features)\n",
        "\n",
        "    # Train and evaluate the model with 10-fold cross-validation\n",
        "    avg_cross_val_accuracy = train_and_evaluate_model(X_train, y_train, vectorizer, feature_selector, classifier)\n",
        "\n",
        "    # Append the average cross-validation accuracy to the results vector\n",
        "    avg_cross_val_accuracies.append(avg_cross_val_accuracy)\n",
        "\n",
        "# Plot the results\n",
        "plt.plot(feature_values, avg_cross_val_accuracies, marker='o')\n",
        "plt.title('Model Performance over Number of Features (10-fold Cross-validation)')\n",
        "plt.xlabel('Number of Features')\n",
        "plt.ylabel('Average Cross-validation Accuracy')\n",
        "plt.show()\n",
        "\n",
        "# Find the maximum performance point\n",
        "max_avg_cross_val_accuracy = max(avg_cross_val_accuracies)\n",
        "optimal_num_features = feature_values[avg_cross_val_accuracies.index(max_avg_cross_val_accuracy)]\n",
        "print(f\"Maximum average cross-validation accuracy ({max_avg_cross_val_accuracy:.2%}) achieved with {optimal_num_features} features.\")"
      ],
      "metadata": {
        "colab": {
          "base_uri": "https://localhost:8080/",
          "height": 490
        },
        "id": "ZGteziuv2sjJ",
        "outputId": "5a378950-0081-4a72-aeea-ccc51b4075a1"
      },
      "execution_count": 30,
      "outputs": [
        {
          "output_type": "display_data",
          "data": {
            "text/plain": [
              "<Figure size 640x480 with 1 Axes>"
            ],
            "image/png": "[encoded data removed]"
          },
          "metadata": {}
        },
        {
          "output_type": "stream",
          "name": "stdout",
          "text": [
            "Maximum average cross-validation accuracy (92.37%) achieved with 5000 features.\n"
          ]
        }
      ]
    },
    {
      "cell_type": "markdown",
      "source": [
        "Looking at the results, maxing out the features gave us the best Cross Validation Accuracy.\n",
        "\n",
        "There is a strange dip at 500, which could be that selection of features caused overfitting."
      ],
      "metadata": {
        "id": "QqnyUE8u_aU-"
      }
    }
  ]
}